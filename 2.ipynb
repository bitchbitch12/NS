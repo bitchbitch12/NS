{
  "nbformat": 4,
  "nbformat_minor": 0,
  "metadata": {
    "colab": {
      "provenance": []
    },
    "kernelspec": {
      "name": "python3",
      "display_name": "Python 3"
    },
    "language_info": {
      "name": "python"
    }
  },
  "cells": [
    {
      "cell_type": "code",
      "source": [
        "!pip install pyLDAvis"
      ],
      "metadata": {
        "colab": {
          "base_uri": "https://localhost:8080/"
        },
        "id": "BuzFKxyFPvwB",
        "outputId": "f6071505-9a69-4963-8237-645e96b025ad"
      },
      "execution_count": null,
      "outputs": [
        {
          "output_type": "stream",
          "name": "stdout",
          "text": [
            "Looking in indexes: https://pypi.org/simple, https://us-python.pkg.dev/colab-wheels/public/simple/\n",
            "Collecting pyLDAvis\n",
            "  Downloading pyLDAvis-3.4.0-py3-none-any.whl (2.6 MB)\n",
            "\u001b[2K     \u001b[90m━━━━━━━━━━━━━━━━━━━━━━━━━━━━━━━━━━━━━━━━\u001b[0m \u001b[32m2.6/2.6 MB\u001b[0m \u001b[31m37.7 MB/s\u001b[0m eta \u001b[36m0:00:00\u001b[0m\n",
            "\u001b[?25hRequirement already satisfied: numexpr in /usr/local/lib/python3.9/dist-packages (from pyLDAvis) (2.8.4)\n",
            "Collecting joblib>=1.2.0\n",
            "  Downloading joblib-1.2.0-py3-none-any.whl (297 kB)\n",
            "\u001b[2K     \u001b[90m━━━━━━━━━━━━━━━━━━━━━━━━━━━━━━━━━━━━━━\u001b[0m \u001b[32m298.0/298.0 KB\u001b[0m \u001b[31m18.9 MB/s\u001b[0m eta \u001b[36m0:00:00\u001b[0m\n",
            "\u001b[?25hRequirement already satisfied: numpy>=1.22.0 in /usr/local/lib/python3.9/dist-packages (from pyLDAvis) (1.22.4)\n",
            "Requirement already satisfied: jinja2 in /usr/local/lib/python3.9/dist-packages (from pyLDAvis) (3.1.2)\n",
            "Requirement already satisfied: setuptools in /usr/local/lib/python3.9/dist-packages (from pyLDAvis) (63.4.3)\n",
            "Requirement already satisfied: gensim in /usr/local/lib/python3.9/dist-packages (from pyLDAvis) (3.6.0)\n",
            "Requirement already satisfied: scipy in /usr/local/lib/python3.9/dist-packages (from pyLDAvis) (1.10.1)\n",
            "Requirement already satisfied: scikit-learn>=1.0.0 in /usr/local/lib/python3.9/dist-packages (from pyLDAvis) (1.2.2)\n",
            "Collecting funcy\n",
            "  Downloading funcy-1.18-py2.py3-none-any.whl (33 kB)\n",
            "Requirement already satisfied: pandas>=1.3.4 in /usr/local/lib/python3.9/dist-packages (from pyLDAvis) (1.4.4)\n",
            "Requirement already satisfied: python-dateutil>=2.8.1 in /usr/local/lib/python3.9/dist-packages (from pandas>=1.3.4->pyLDAvis) (2.8.2)\n",
            "Requirement already satisfied: pytz>=2020.1 in /usr/local/lib/python3.9/dist-packages (from pandas>=1.3.4->pyLDAvis) (2022.7.1)\n",
            "Requirement already satisfied: threadpoolctl>=2.0.0 in /usr/local/lib/python3.9/dist-packages (from scikit-learn>=1.0.0->pyLDAvis) (3.1.0)\n",
            "Requirement already satisfied: smart-open>=1.2.1 in /usr/local/lib/python3.9/dist-packages (from gensim->pyLDAvis) (6.3.0)\n",
            "Requirement already satisfied: six>=1.5.0 in /usr/local/lib/python3.9/dist-packages (from gensim->pyLDAvis) (1.15.0)\n",
            "Requirement already satisfied: MarkupSafe>=2.0 in /usr/local/lib/python3.9/dist-packages (from jinja2->pyLDAvis) (2.1.2)\n",
            "Installing collected packages: funcy, joblib, pyLDAvis\n",
            "  Attempting uninstall: joblib\n",
            "    Found existing installation: joblib 1.1.1\n",
            "    Uninstalling joblib-1.1.1:\n",
            "      Successfully uninstalled joblib-1.1.1\n",
            "\u001b[31mERROR: pip's dependency resolver does not currently take into account all the packages that are installed. This behaviour is the source of the following dependency conflicts.\n",
            "pandas-profiling 3.2.0 requires joblib~=1.1.0, but you have joblib 1.2.0 which is incompatible.\u001b[0m\u001b[31m\n",
            "\u001b[0mSuccessfully installed funcy-1.18 joblib-1.2.0 pyLDAvis-3.4.0\n"
          ]
        }
      ]
    },
    {
      "cell_type": "code",
      "source": [
        "import warnings\n",
        "warnings.filterwarnings('ignore',category=DeprecationWarning)\n",
        "\n",
        "# import libraries\n",
        "import numpy as np\n",
        "import pandas as pd\n",
        "import nltk\n",
        "import matplotlib.pyplot as plt\n",
        "import re,random,os\n",
        "import seaborn as sns\n",
        "from nltk.corpus import stopwords\n",
        "import string\n",
        "from pprint import pprint as pprint\n",
        "\n",
        "# spacy for basic processing, optional, can use nltk as well(lemmatisation etc.)\n",
        "import spacy\n",
        "\n",
        "#gensim for LDA\n",
        "import gensim\n",
        "import gensim.corpora as corpora\n",
        "from gensim.utils import simple_preprocess\n",
        "from gensim.models import CoherenceModel\n",
        "\n",
        "#plotting tools\n",
        "import pyLDAvis\n",
        "import pyLDAvis.gensim #dont skip this\n",
        "import matplotlib.pyplot as plt\n",
        "%matplotlib inline\n",
        "\n",
        "nltk.download(\"stopwords\")"
      ],
      "metadata": {
        "id": "H_SpAYopPSgI",
        "colab": {
          "base_uri": "https://localhost:8080/"
        },
        "outputId": "cfed25a5-a7e6-475c-e7c4-1e8d4747388d"
      },
      "execution_count": null,
      "outputs": [
        {
          "output_type": "stream",
          "name": "stderr",
          "text": [
            "/usr/local/lib/python3.9/dist-packages/torch/cuda/__init__.py:497: UserWarning: Can't initialize NVML\n",
            "  warnings.warn(\"Can't initialize NVML\")\n",
            "[nltk_data] Downloading package stopwords to /root/nltk_data...\n",
            "[nltk_data]   Unzipping corpora/stopwords.zip.\n"
          ]
        },
        {
          "output_type": "execute_result",
          "data": {
            "text/plain": [
              "True"
            ]
          },
          "metadata": {},
          "execution_count": 2
        }
      ]
    },
    {
      "cell_type": "code",
      "source": [
        "spacy.cli.download(\"en_core_web_sm\")"
      ],
      "metadata": {
        "colab": {
          "base_uri": "https://localhost:8080/"
        },
        "id": "ofWH0uEBPkKh",
        "outputId": "3e3f2550-22cb-4c97-a295-a78c2b9b7e84"
      },
      "execution_count": null,
      "outputs": [
        {
          "output_type": "stream",
          "name": "stdout",
          "text": [
            "\u001b[38;5;2m✔ Download and installation successful\u001b[0m\n",
            "You can now load the package via spacy.load('en_core_web_sm')\n"
          ]
        }
      ]
    },
    {
      "cell_type": "code",
      "execution_count": null,
      "metadata": {
        "colab": {
          "base_uri": "https://localhost:8080/"
        },
        "id": "cFlbNJgPEmnm",
        "outputId": "8060f7e1-dbcc-48e4-db5d-321a3245938b"
      },
      "outputs": [
        {
          "output_type": "stream",
          "name": "stdout",
          "text": [
            "Mounted at /content/drive\n"
          ]
        }
      ],
      "source": [
        "from google.colab import drive\n",
        "drive.mount(\"/content/drive\")"
      ]
    },
    {
      "cell_type": "code",
      "source": [
        "df = pd.read_csv(\"/content/drive/MyDrive/SEM 8/NLP/Assignment PPT/demonetization-tweets.csv\", encoding = \"cp1252\")\n",
        "print(df.shape)\n",
        "df.head()"
      ],
      "metadata": {
        "colab": {
          "base_uri": "https://localhost:8080/",
          "height": 531
        },
        "id": "uXAU4jiJPOTY",
        "outputId": "5e438d93-c1a1-4534-94b3-e56638fa1edd"
      },
      "execution_count": null,
      "outputs": [
        {
          "output_type": "stream",
          "name": "stdout",
          "text": [
            "(8000, 15)\n"
          ]
        },
        {
          "output_type": "execute_result",
          "data": {
            "text/plain": [
              "   Unnamed: 0                                               text  favorited  \\\n",
              "0           1  RT @rssurjewala: Critical question: Was PayTM ...      False   \n",
              "1           2  RT @Hemant_80: Did you vote on #Demonetization...      False   \n",
              "2           3  RT @roshankar: Former FinSec, RBI Dy Governor,...      False   \n",
              "3           4  RT @ANI_news: Gurugram (Haryana): Post office ...      False   \n",
              "4           5  RT @satishacharya: Reddy Wedding! @mail_today ...      False   \n",
              "\n",
              "   favoriteCount replyToSN              created  truncated  replyToSID  \\\n",
              "0              0       NaN  2016-11-23 18:40:30      False         NaN   \n",
              "1              0       NaN  2016-11-23 18:40:29      False         NaN   \n",
              "2              0       NaN  2016-11-23 18:40:03      False         NaN   \n",
              "3              0       NaN  2016-11-23 18:39:59      False         NaN   \n",
              "4              0       NaN  2016-11-23 18:39:39      False         NaN   \n",
              "\n",
              "                   id  replyToUID  \\\n",
              "0  801495656976318464         NaN   \n",
              "1  801495654778413057         NaN   \n",
              "2  801495544266821632         NaN   \n",
              "3  801495527024160768         NaN   \n",
              "4  801495445583360002         NaN   \n",
              "\n",
              "                                        statusSource       screenName  \\\n",
              "0  <a href=\"http://twitter.com/download/android\" ...  HASHTAGFARZIWAL   \n",
              "1  <a href=\"http://twitter.com/download/android\" ...   PRAMODKAUSHIK9   \n",
              "2  <a href=\"http://twitter.com/download/android\" ...  rahulja13034944   \n",
              "3  <a href=\"http://twitter.com/download/android\" ...        deeptiyvd   \n",
              "4  <a href=\"http://cpimharyana.com\" rel=\"nofollow...        CPIMBadli   \n",
              "\n",
              "   retweetCount  isRetweet  retweeted  \n",
              "0           331       True      False  \n",
              "1            66       True      False  \n",
              "2            12       True      False  \n",
              "3           338       True      False  \n",
              "4           120       True      False  "
            ],
            "text/html": [
              "\n",
              "  <div id=\"df-624d4927-ecbf-44e2-81b9-df060005f197\">\n",
              "    <div class=\"colab-df-container\">\n",
              "      <div>\n",
              "<style scoped>\n",
              "    .dataframe tbody tr th:only-of-type {\n",
              "        vertical-align: middle;\n",
              "    }\n",
              "\n",
              "    .dataframe tbody tr th {\n",
              "        vertical-align: top;\n",
              "    }\n",
              "\n",
              "    .dataframe thead th {\n",
              "        text-align: right;\n",
              "    }\n",
              "</style>\n",
              "<table border=\"1\" class=\"dataframe\">\n",
              "  <thead>\n",
              "    <tr style=\"text-align: right;\">\n",
              "      <th></th>\n",
              "      <th>Unnamed: 0</th>\n",
              "      <th>text</th>\n",
              "      <th>favorited</th>\n",
              "      <th>favoriteCount</th>\n",
              "      <th>replyToSN</th>\n",
              "      <th>created</th>\n",
              "      <th>truncated</th>\n",
              "      <th>replyToSID</th>\n",
              "      <th>id</th>\n",
              "      <th>replyToUID</th>\n",
              "      <th>statusSource</th>\n",
              "      <th>screenName</th>\n",
              "      <th>retweetCount</th>\n",
              "      <th>isRetweet</th>\n",
              "      <th>retweeted</th>\n",
              "    </tr>\n",
              "  </thead>\n",
              "  <tbody>\n",
              "    <tr>\n",
              "      <th>0</th>\n",
              "      <td>1</td>\n",
              "      <td>RT @rssurjewala: Critical question: Was PayTM ...</td>\n",
              "      <td>False</td>\n",
              "      <td>0</td>\n",
              "      <td>NaN</td>\n",
              "      <td>2016-11-23 18:40:30</td>\n",
              "      <td>False</td>\n",
              "      <td>NaN</td>\n",
              "      <td>801495656976318464</td>\n",
              "      <td>NaN</td>\n",
              "      <td>&lt;a href=\"http://twitter.com/download/android\" ...</td>\n",
              "      <td>HASHTAGFARZIWAL</td>\n",
              "      <td>331</td>\n",
              "      <td>True</td>\n",
              "      <td>False</td>\n",
              "    </tr>\n",
              "    <tr>\n",
              "      <th>1</th>\n",
              "      <td>2</td>\n",
              "      <td>RT @Hemant_80: Did you vote on #Demonetization...</td>\n",
              "      <td>False</td>\n",
              "      <td>0</td>\n",
              "      <td>NaN</td>\n",
              "      <td>2016-11-23 18:40:29</td>\n",
              "      <td>False</td>\n",
              "      <td>NaN</td>\n",
              "      <td>801495654778413057</td>\n",
              "      <td>NaN</td>\n",
              "      <td>&lt;a href=\"http://twitter.com/download/android\" ...</td>\n",
              "      <td>PRAMODKAUSHIK9</td>\n",
              "      <td>66</td>\n",
              "      <td>True</td>\n",
              "      <td>False</td>\n",
              "    </tr>\n",
              "    <tr>\n",
              "      <th>2</th>\n",
              "      <td>3</td>\n",
              "      <td>RT @roshankar: Former FinSec, RBI Dy Governor,...</td>\n",
              "      <td>False</td>\n",
              "      <td>0</td>\n",
              "      <td>NaN</td>\n",
              "      <td>2016-11-23 18:40:03</td>\n",
              "      <td>False</td>\n",
              "      <td>NaN</td>\n",
              "      <td>801495544266821632</td>\n",
              "      <td>NaN</td>\n",
              "      <td>&lt;a href=\"http://twitter.com/download/android\" ...</td>\n",
              "      <td>rahulja13034944</td>\n",
              "      <td>12</td>\n",
              "      <td>True</td>\n",
              "      <td>False</td>\n",
              "    </tr>\n",
              "    <tr>\n",
              "      <th>3</th>\n",
              "      <td>4</td>\n",
              "      <td>RT @ANI_news: Gurugram (Haryana): Post office ...</td>\n",
              "      <td>False</td>\n",
              "      <td>0</td>\n",
              "      <td>NaN</td>\n",
              "      <td>2016-11-23 18:39:59</td>\n",
              "      <td>False</td>\n",
              "      <td>NaN</td>\n",
              "      <td>801495527024160768</td>\n",
              "      <td>NaN</td>\n",
              "      <td>&lt;a href=\"http://twitter.com/download/android\" ...</td>\n",
              "      <td>deeptiyvd</td>\n",
              "      <td>338</td>\n",
              "      <td>True</td>\n",
              "      <td>False</td>\n",
              "    </tr>\n",
              "    <tr>\n",
              "      <th>4</th>\n",
              "      <td>5</td>\n",
              "      <td>RT @satishacharya: Reddy Wedding! @mail_today ...</td>\n",
              "      <td>False</td>\n",
              "      <td>0</td>\n",
              "      <td>NaN</td>\n",
              "      <td>2016-11-23 18:39:39</td>\n",
              "      <td>False</td>\n",
              "      <td>NaN</td>\n",
              "      <td>801495445583360002</td>\n",
              "      <td>NaN</td>\n",
              "      <td>&lt;a href=\"http://cpimharyana.com\" rel=\"nofollow...</td>\n",
              "      <td>CPIMBadli</td>\n",
              "      <td>120</td>\n",
              "      <td>True</td>\n",
              "      <td>False</td>\n",
              "    </tr>\n",
              "  </tbody>\n",
              "</table>\n",
              "</div>\n",
              "      <button class=\"colab-df-convert\" onclick=\"convertToInteractive('df-624d4927-ecbf-44e2-81b9-df060005f197')\"\n",
              "              title=\"Convert this dataframe to an interactive table.\"\n",
              "              style=\"display:none;\">\n",
              "        \n",
              "  <svg xmlns=\"http://www.w3.org/2000/svg\" height=\"24px\"viewBox=\"0 0 24 24\"\n",
              "       width=\"24px\">\n",
              "    <path d=\"M0 0h24v24H0V0z\" fill=\"none\"/>\n",
              "    <path d=\"M18.56 5.44l.94 2.06.94-2.06 2.06-.94-2.06-.94-.94-2.06-.94 2.06-2.06.94zm-11 1L8.5 8.5l.94-2.06 2.06-.94-2.06-.94L8.5 2.5l-.94 2.06-2.06.94zm10 10l.94 2.06.94-2.06 2.06-.94-2.06-.94-.94-2.06-.94 2.06-2.06.94z\"/><path d=\"M17.41 7.96l-1.37-1.37c-.4-.4-.92-.59-1.43-.59-.52 0-1.04.2-1.43.59L10.3 9.45l-7.72 7.72c-.78.78-.78 2.05 0 2.83L4 21.41c.39.39.9.59 1.41.59.51 0 1.02-.2 1.41-.59l7.78-7.78 2.81-2.81c.8-.78.8-2.07 0-2.86zM5.41 20L4 18.59l7.72-7.72 1.47 1.35L5.41 20z\"/>\n",
              "  </svg>\n",
              "      </button>\n",
              "      \n",
              "  <style>\n",
              "    .colab-df-container {\n",
              "      display:flex;\n",
              "      flex-wrap:wrap;\n",
              "      gap: 12px;\n",
              "    }\n",
              "\n",
              "    .colab-df-convert {\n",
              "      background-color: #E8F0FE;\n",
              "      border: none;\n",
              "      border-radius: 50%;\n",
              "      cursor: pointer;\n",
              "      display: none;\n",
              "      fill: #1967D2;\n",
              "      height: 32px;\n",
              "      padding: 0 0 0 0;\n",
              "      width: 32px;\n",
              "    }\n",
              "\n",
              "    .colab-df-convert:hover {\n",
              "      background-color: #E2EBFA;\n",
              "      box-shadow: 0px 1px 2px rgba(60, 64, 67, 0.3), 0px 1px 3px 1px rgba(60, 64, 67, 0.15);\n",
              "      fill: #174EA6;\n",
              "    }\n",
              "\n",
              "    [theme=dark] .colab-df-convert {\n",
              "      background-color: #3B4455;\n",
              "      fill: #D2E3FC;\n",
              "    }\n",
              "\n",
              "    [theme=dark] .colab-df-convert:hover {\n",
              "      background-color: #434B5C;\n",
              "      box-shadow: 0px 1px 3px 1px rgba(0, 0, 0, 0.15);\n",
              "      filter: drop-shadow(0px 1px 2px rgba(0, 0, 0, 0.3));\n",
              "      fill: #FFFFFF;\n",
              "    }\n",
              "  </style>\n",
              "\n",
              "      <script>\n",
              "        const buttonEl =\n",
              "          document.querySelector('#df-624d4927-ecbf-44e2-81b9-df060005f197 button.colab-df-convert');\n",
              "        buttonEl.style.display =\n",
              "          google.colab.kernel.accessAllowed ? 'block' : 'none';\n",
              "\n",
              "        async function convertToInteractive(key) {\n",
              "          const element = document.querySelector('#df-624d4927-ecbf-44e2-81b9-df060005f197');\n",
              "          const dataTable =\n",
              "            await google.colab.kernel.invokeFunction('convertToInteractive',\n",
              "                                                     [key], {});\n",
              "          if (!dataTable) return;\n",
              "\n",
              "          const docLinkHtml = 'Like what you see? Visit the ' +\n",
              "            '<a target=\"_blank\" href=https://colab.research.google.com/notebooks/data_table.ipynb>data table notebook</a>'\n",
              "            + ' to learn more about interactive tables.';\n",
              "          element.innerHTML = '';\n",
              "          dataTable['output_type'] = 'display_data';\n",
              "          await google.colab.output.renderOutput(dataTable, element);\n",
              "          const docLink = document.createElement('div');\n",
              "          docLink.innerHTML = docLinkHtml;\n",
              "          element.appendChild(docLink);\n",
              "        }\n",
              "      </script>\n",
              "    </div>\n",
              "  </div>\n",
              "  "
            ]
          },
          "metadata": {},
          "execution_count": 5
        }
      ]
    },
    {
      "cell_type": "code",
      "source": [
        "df.info()"
      ],
      "metadata": {
        "colab": {
          "base_uri": "https://localhost:8080/"
        },
        "id": "yPN9YmqIQHFI",
        "outputId": "b0f3c000-8559-4340-cd89-684dfcc664b3"
      },
      "execution_count": null,
      "outputs": [
        {
          "output_type": "stream",
          "name": "stdout",
          "text": [
            "<class 'pandas.core.frame.DataFrame'>\n",
            "RangeIndex: 8000 entries, 0 to 7999\n",
            "Data columns (total 15 columns):\n",
            " #   Column         Non-Null Count  Dtype  \n",
            "---  ------         --------------  -----  \n",
            " 0   Unnamed: 0     8000 non-null   int64  \n",
            " 1   text           8000 non-null   object \n",
            " 2   favorited      8000 non-null   bool   \n",
            " 3   favoriteCount  8000 non-null   int64  \n",
            " 4   replyToSN      316 non-null    object \n",
            " 5   created        8000 non-null   object \n",
            " 6   truncated      8000 non-null   bool   \n",
            " 7   replyToSID     226 non-null    float64\n",
            " 8   id             8000 non-null   int64  \n",
            " 9   replyToUID     316 non-null    float64\n",
            " 10  statusSource   8000 non-null   object \n",
            " 11  screenName     8000 non-null   object \n",
            " 12  retweetCount   8000 non-null   int64  \n",
            " 13  isRetweet      8000 non-null   bool   \n",
            " 14  retweeted      8000 non-null   bool   \n",
            "dtypes: bool(4), float64(2), int64(4), object(5)\n",
            "memory usage: 718.9+ KB\n"
          ]
        }
      ]
    },
    {
      "cell_type": "code",
      "source": [
        "# see randomly chosen sample tweets\n",
        "df.text[random.randrange(len(df.text))]"
      ],
      "metadata": {
        "colab": {
          "base_uri": "https://localhost:8080/",
          "height": 35
        },
        "id": "380OlfOOQYt5",
        "outputId": "cad8ac69-39d0-4478-8d17-2d904c604b03"
      },
      "execution_count": null,
      "outputs": [
        {
          "output_type": "execute_result",
          "data": {
            "text/plain": [
              "'RT @kanimozhi: Thanks to #demonetization 75% reduction in crime rate in India. Black money seems to be the sole reason 4 all problems in In…'"
            ],
            "application/vnd.google.colaboratory.intrinsic+json": {
              "type": "string"
            }
          },
          "metadata": {},
          "execution_count": 7
        }
      ]
    },
    {
      "cell_type": "code",
      "source": [
        "df.text[:10]"
      ],
      "metadata": {
        "colab": {
          "base_uri": "https://localhost:8080/"
        },
        "id": "Vjj_yLMlQb5Z",
        "outputId": "e856410e-e5fb-41c3-81e3-1fb1e8987b4b"
      },
      "execution_count": null,
      "outputs": [
        {
          "output_type": "execute_result",
          "data": {
            "text/plain": [
              "0    RT @rssurjewala: Critical question: Was PayTM ...\n",
              "1    RT @Hemant_80: Did you vote on #Demonetization...\n",
              "2    RT @roshankar: Former FinSec, RBI Dy Governor,...\n",
              "3    RT @ANI_news: Gurugram (Haryana): Post office ...\n",
              "4    RT @satishacharya: Reddy Wedding! @mail_today ...\n",
              "5    @DerekScissors1: India’s #demonetization: #Bla...\n",
              "6    RT @gauravcsawant: Rs 40 lakh looted from a ba...\n",
              "7    RT @Joydeep_911: Calling all Nationalists to j...\n",
              "8    RT @sumitbhati2002: Many opposition leaders ar...\n",
              "9    National reform now destroyed even the essence...\n",
              "Name: text, dtype: object"
            ]
          },
          "metadata": {},
          "execution_count": 8
        }
      ]
    },
    {
      "cell_type": "markdown",
      "source": [
        "Note that many tweets have strings such as RT, @xyz, etc. Some have URLs, punctuation marks, smileys etc. The following code cleans the data to handle many of these issues.\n"
      ],
      "metadata": {
        "id": "nRV93TawQjX5"
      }
    },
    {
      "cell_type": "markdown",
      "source": [
        "## **DATA CLEANING & PREPROCESSING**"
      ],
      "metadata": {
        "id": "I5GFzo9fZvVg"
      }
    },
    {
      "cell_type": "code",
      "source": [
        "# remove URLs\n",
        "def remove_URL(x):\n",
        "    return x.replace(r'https[a-zA-Z0-9]*',\"\",regex=True)\n",
        "\n",
        "#clean tweet text\n",
        "def clean_tweets(tweet_col):\n",
        "    df=pd.DataFrame({'tweet':tweet_col})\n",
        "    df['tweet']=df['tweet'].replace(r'\\'|\\\"|\\,|\\.|\\?|\\+|\\-|\\/|\\=|\\(|\\)|\\n|\"', '', regex=True)\n",
        "    df['tweet']=df['tweet'].replace(\"  \",\" \")\n",
        "    df['tweet']=df['tweet'].replace(r'@[a-zA-Z0-9]*', '', regex=True)\n",
        "    df['tweet']=remove_URL(df['tweet'])\n",
        "    df['tweet']=df['tweet'].str.lower()\n",
        "\n",
        "    return(df)\n",
        "\n",
        "cleaned_tweets=clean_tweets(df.text)\n",
        "cleaned_tweets[:10]"
      ],
      "metadata": {
        "colab": {
          "base_uri": "https://localhost:8080/",
          "height": 363
        },
        "id": "HIDVrgFyQf84",
        "outputId": "c33fccc4-f83b-4ef5-8da1-5d0c2c77c005"
      },
      "execution_count": null,
      "outputs": [
        {
          "output_type": "execute_result",
          "data": {
            "text/plain": [
              "                                               tweet\n",
              "0  rt : critical question: was paytm informed abo...\n",
              "1  rt _80: did you vote on #demonetization on mod...\n",
              "2  rt : former finsec rbi dy governor cbdt chair ...\n",
              "3  rt _news: gurugram haryana: post office employ...\n",
              "4  rt : reddy wedding! _today cartoon #demonetiza...\n",
              "5  : india’s #demonetization: #blackmoney a sympt...\n",
              "6  rt : rs 40 lakh looted from a bank in kishtwar...\n",
              "7  rt _911: calling all nationalists to join\\rwal...\n",
              "8  rt : many opposition leaders are with  on the ...\n",
              "9  national reform now destroyed even the essence..."
            ],
            "text/html": [
              "\n",
              "  <div id=\"df-86dbe84e-39c2-4132-861a-889478765f0a\">\n",
              "    <div class=\"colab-df-container\">\n",
              "      <div>\n",
              "<style scoped>\n",
              "    .dataframe tbody tr th:only-of-type {\n",
              "        vertical-align: middle;\n",
              "    }\n",
              "\n",
              "    .dataframe tbody tr th {\n",
              "        vertical-align: top;\n",
              "    }\n",
              "\n",
              "    .dataframe thead th {\n",
              "        text-align: right;\n",
              "    }\n",
              "</style>\n",
              "<table border=\"1\" class=\"dataframe\">\n",
              "  <thead>\n",
              "    <tr style=\"text-align: right;\">\n",
              "      <th></th>\n",
              "      <th>tweet</th>\n",
              "    </tr>\n",
              "  </thead>\n",
              "  <tbody>\n",
              "    <tr>\n",
              "      <th>0</th>\n",
              "      <td>rt : critical question: was paytm informed abo...</td>\n",
              "    </tr>\n",
              "    <tr>\n",
              "      <th>1</th>\n",
              "      <td>rt _80: did you vote on #demonetization on mod...</td>\n",
              "    </tr>\n",
              "    <tr>\n",
              "      <th>2</th>\n",
              "      <td>rt : former finsec rbi dy governor cbdt chair ...</td>\n",
              "    </tr>\n",
              "    <tr>\n",
              "      <th>3</th>\n",
              "      <td>rt _news: gurugram haryana: post office employ...</td>\n",
              "    </tr>\n",
              "    <tr>\n",
              "      <th>4</th>\n",
              "      <td>rt : reddy wedding! _today cartoon #demonetiza...</td>\n",
              "    </tr>\n",
              "    <tr>\n",
              "      <th>5</th>\n",
              "      <td>: india’s #demonetization: #blackmoney a sympt...</td>\n",
              "    </tr>\n",
              "    <tr>\n",
              "      <th>6</th>\n",
              "      <td>rt : rs 40 lakh looted from a bank in kishtwar...</td>\n",
              "    </tr>\n",
              "    <tr>\n",
              "      <th>7</th>\n",
              "      <td>rt _911: calling all nationalists to join\\rwal...</td>\n",
              "    </tr>\n",
              "    <tr>\n",
              "      <th>8</th>\n",
              "      <td>rt : many opposition leaders are with  on the ...</td>\n",
              "    </tr>\n",
              "    <tr>\n",
              "      <th>9</th>\n",
              "      <td>national reform now destroyed even the essence...</td>\n",
              "    </tr>\n",
              "  </tbody>\n",
              "</table>\n",
              "</div>\n",
              "      <button class=\"colab-df-convert\" onclick=\"convertToInteractive('df-86dbe84e-39c2-4132-861a-889478765f0a')\"\n",
              "              title=\"Convert this dataframe to an interactive table.\"\n",
              "              style=\"display:none;\">\n",
              "        \n",
              "  <svg xmlns=\"http://www.w3.org/2000/svg\" height=\"24px\"viewBox=\"0 0 24 24\"\n",
              "       width=\"24px\">\n",
              "    <path d=\"M0 0h24v24H0V0z\" fill=\"none\"/>\n",
              "    <path d=\"M18.56 5.44l.94 2.06.94-2.06 2.06-.94-2.06-.94-.94-2.06-.94 2.06-2.06.94zm-11 1L8.5 8.5l.94-2.06 2.06-.94-2.06-.94L8.5 2.5l-.94 2.06-2.06.94zm10 10l.94 2.06.94-2.06 2.06-.94-2.06-.94-.94-2.06-.94 2.06-2.06.94z\"/><path d=\"M17.41 7.96l-1.37-1.37c-.4-.4-.92-.59-1.43-.59-.52 0-1.04.2-1.43.59L10.3 9.45l-7.72 7.72c-.78.78-.78 2.05 0 2.83L4 21.41c.39.39.9.59 1.41.59.51 0 1.02-.2 1.41-.59l7.78-7.78 2.81-2.81c.8-.78.8-2.07 0-2.86zM5.41 20L4 18.59l7.72-7.72 1.47 1.35L5.41 20z\"/>\n",
              "  </svg>\n",
              "      </button>\n",
              "      \n",
              "  <style>\n",
              "    .colab-df-container {\n",
              "      display:flex;\n",
              "      flex-wrap:wrap;\n",
              "      gap: 12px;\n",
              "    }\n",
              "\n",
              "    .colab-df-convert {\n",
              "      background-color: #E8F0FE;\n",
              "      border: none;\n",
              "      border-radius: 50%;\n",
              "      cursor: pointer;\n",
              "      display: none;\n",
              "      fill: #1967D2;\n",
              "      height: 32px;\n",
              "      padding: 0 0 0 0;\n",
              "      width: 32px;\n",
              "    }\n",
              "\n",
              "    .colab-df-convert:hover {\n",
              "      background-color: #E2EBFA;\n",
              "      box-shadow: 0px 1px 2px rgba(60, 64, 67, 0.3), 0px 1px 3px 1px rgba(60, 64, 67, 0.15);\n",
              "      fill: #174EA6;\n",
              "    }\n",
              "\n",
              "    [theme=dark] .colab-df-convert {\n",
              "      background-color: #3B4455;\n",
              "      fill: #D2E3FC;\n",
              "    }\n",
              "\n",
              "    [theme=dark] .colab-df-convert:hover {\n",
              "      background-color: #434B5C;\n",
              "      box-shadow: 0px 1px 3px 1px rgba(0, 0, 0, 0.15);\n",
              "      filter: drop-shadow(0px 1px 2px rgba(0, 0, 0, 0.3));\n",
              "      fill: #FFFFFF;\n",
              "    }\n",
              "  </style>\n",
              "\n",
              "      <script>\n",
              "        const buttonEl =\n",
              "          document.querySelector('#df-86dbe84e-39c2-4132-861a-889478765f0a button.colab-df-convert');\n",
              "        buttonEl.style.display =\n",
              "          google.colab.kernel.accessAllowed ? 'block' : 'none';\n",
              "\n",
              "        async function convertToInteractive(key) {\n",
              "          const element = document.querySelector('#df-86dbe84e-39c2-4132-861a-889478765f0a');\n",
              "          const dataTable =\n",
              "            await google.colab.kernel.invokeFunction('convertToInteractive',\n",
              "                                                     [key], {});\n",
              "          if (!dataTable) return;\n",
              "\n",
              "          const docLinkHtml = 'Like what you see? Visit the ' +\n",
              "            '<a target=\"_blank\" href=https://colab.research.google.com/notebooks/data_table.ipynb>data table notebook</a>'\n",
              "            + ' to learn more about interactive tables.';\n",
              "          element.innerHTML = '';\n",
              "          dataTable['output_type'] = 'display_data';\n",
              "          await google.colab.output.renderOutput(dataTable, element);\n",
              "          const docLink = document.createElement('div');\n",
              "          docLink.innerHTML = docLinkHtml;\n",
              "          element.appendChild(docLink);\n",
              "        }\n",
              "      </script>\n",
              "    </div>\n",
              "  </div>\n",
              "  "
            ]
          },
          "metadata": {},
          "execution_count": 9
        }
      ]
    },
    {
      "cell_type": "code",
      "source": [
        "# tokenize using gensims simple_preprocess\n",
        "def sent_to_words(sentences, deacc=True):  # deacc=True removes punctuations\n",
        "    for sentence in sentences:\n",
        "        yield(simple_preprocess(str(sentence)))"
      ],
      "metadata": {
        "id": "SEqUDlwsRO5R"
      },
      "execution_count": null,
      "outputs": []
    },
    {
      "cell_type": "code",
      "source": [
        "def lemmatization(texts,allowed_postags=['NOUN','ADJ','VERB','ADV']):\n",
        "    \"\"\"https://spacy.io/api/annotation\"\"\"\n",
        "    texts_out=[]\n",
        "    for sent in texts:\n",
        "        doc=nlp(' '.join(sent))\n",
        "        texts_out.append([token.lemma_ for token in doc if token.pos_ in allowed_postags])\n",
        "    return texts_out"
      ],
      "metadata": {
        "id": "JYfGpE5WRSQh"
      },
      "execution_count": null,
      "outputs": []
    },
    {
      "cell_type": "markdown",
      "source": [
        "Since tweets often contain slang words such as wat, rt, lol etc, we can append the stopwords with a list of such custom words and remove them."
      ],
      "metadata": {
        "id": "OZTrVG0mQrjV"
      }
    },
    {
      "cell_type": "code",
      "source": [
        "stop_words= stopwords.words('english') + list(string.punctuation)\n",
        "\n",
        "words_remove = [\"ax\",\"i\",\"you\",\"edu\",\"s\",\"t\",\"m\",\"subject\",\"can\",\"lines\",\"re\",\"what\", \"there\",\n",
        "                    \"all\",\"we\",\"one\",\"the\",\"a\",\"an\",\"of\",\"or\",\"in\",\"for\",\"by\",\"on\",\"but\",\"is\",\"in\",\n",
        "                    \"a\",\"not\",\"with\",\"as\",\"was\",\"if\",\"they\",\"are\",\"this\",\"and\",\"it\",\"have\",\"from\",\"at\",\n",
        "                    \"my\",\"be\",\"by\",\"not\",\"that\",\"to\",\"from\",\"com\",\"org\",\"like\",\"likes\",\"so\",\"said\",\"from\",\n",
        "                    \"what\",\"told\",\"over\",\"more\",\"other\",\"have\",\"last\",\"with\",\"this\",\"that\",\"such\",\"when\",\n",
        "                    \"been\",\"says\",\"will\",\"also\",\"where\",\"why\",\"would\",\"today\", \"in\", \"on\", \"you\", \"r\", \"d\",\n",
        "                    \"u\", \"hw\",\"wat\", \"oly\", \"s\", \"b\", \"ht\", \"rt\", \"p\",\"the\",\"th\", \"lol\", ':']\n",
        "\n",
        "#remove stop words, punctuations\n",
        "stop_words = set(list(stopwords.words('english') + list(string.punctuation)+words_remove))\n",
        "data_words= list(sent_to_words(cleaned_tweets.tweet.values.tolist(), deacc=False))\n",
        "\n",
        "# remove stopwords\n",
        "def remove_stopwords(texts, stop_words=stop_words):\n",
        "    return [[word for word in simple_preprocess(str(doc)) if word not in stop_words] for doc in texts]\n",
        "\n",
        "data_words_nostops = remove_stopwords(data_words)\n",
        "\n",
        "\n",
        "# spacy for lemmatization\n",
        "nlp = spacy.load('en_core_web_sm', disable=['parser', 'ner'])\n",
        "data_lemmatized = lemmatization(data_words_nostops, allowed_postags=['NOUN', 'ADJ', 'VERB', 'ADV'])"
      ],
      "metadata": {
        "id": "a57JmLF-Qmqo"
      },
      "execution_count": null,
      "outputs": []
    },
    {
      "cell_type": "code",
      "source": [
        "# sample lemmatized tweets\n",
        "data_lemmatized[0:3]"
      ],
      "metadata": {
        "id": "-G-4VyHLQt3o",
        "colab": {
          "base_uri": "https://localhost:8080/"
        },
        "outputId": "c3417ebd-0f81-436b-b8d5-63012565be83"
      },
      "execution_count": null,
      "outputs": [
        {
          "output_type": "execute_result",
          "data": {
            "text/plain": [
              "[['critical',\n",
              "  'question',\n",
              "  'paytm',\n",
              "  'inform',\n",
              "  'demonetization',\n",
              "  'edict',\n",
              "  'pm',\n",
              "  'clearly',\n",
              "  'fishy',\n",
              "  'require',\n",
              "  'full',\n",
              "  'disclosure',\n",
              "  'amp'],\n",
              " ['vote', 'demonetization', 'survey'],\n",
              " ['former', 'finsec', 'lambaste', 'demonetization', 'aadmi', 'listen']]"
            ]
          },
          "metadata": {},
          "execution_count": 30
        }
      ]
    },
    {
      "cell_type": "code",
      "source": [
        "# create dictionary and corpus\n",
        "id2word = corpora.Dictionary(data_lemmatized)\n",
        "texts = data_lemmatized\n",
        "corpus = [id2word.doc2bow(text) for text in texts]"
      ],
      "metadata": {
        "id": "8Vfk_TogSQDJ"
      },
      "execution_count": null,
      "outputs": []
    },
    {
      "cell_type": "code",
      "source": [
        "corpus[0:3]"
      ],
      "metadata": {
        "colab": {
          "base_uri": "https://localhost:8080/"
        },
        "id": "y3YcejYjangp",
        "outputId": "18e7489c-c125-44b9-e3b6-7016ec340a27"
      },
      "execution_count": null,
      "outputs": [
        {
          "output_type": "execute_result",
          "data": {
            "text/plain": [
              "[[(0, 1),\n",
              "  (1, 1),\n",
              "  (2, 1),\n",
              "  (3, 1),\n",
              "  (4, 1),\n",
              "  (5, 1),\n",
              "  (6, 1),\n",
              "  (7, 1),\n",
              "  (8, 1),\n",
              "  (9, 1),\n",
              "  (10, 1),\n",
              "  (11, 1),\n",
              "  (12, 1)],\n",
              " [(3, 1), (13, 1), (14, 1)],\n",
              " [(3, 1), (15, 1), (16, 1), (17, 1), (18, 1), (19, 1)]]"
            ]
          },
          "metadata": {},
          "execution_count": 31
        }
      ]
    },
    {
      "cell_type": "markdown",
      "source": [
        "## **HYPERPARAMETER TUNING**"
      ],
      "metadata": {
        "id": "KHpAprq7bX7d"
      }
    },
    {
      "cell_type": "code",
      "source": [
        "# compute coherence value at various values of alpha and num_topics\n",
        "def compute_coherence_values(dictionary, corpus, texts, num_topics_range,alpha_range):\n",
        "    coherence_values=[]\n",
        "    model_list=[]\n",
        "\n",
        "    for alpha in alpha_range:\n",
        "        for num_topics in num_topics_range:\n",
        "            lda_model= gensim.models.ldamodel.LdaModel(corpus=corpus, id2word=dictionary, alpha=alpha,num_topics=num_topics,\\\n",
        "                                                      per_word_topics=True)\n",
        "            model_list.append(lda_model)\n",
        "            coherencemodel=CoherenceModel(model=lda_model,texts=texts,dictionary=dictionary,coherence='c_v')\n",
        "            coherence_values.append((alpha,num_topics,coherencemodel.get_coherence()))\n",
        "\n",
        "    return model_list,coherence_values"
      ],
      "metadata": {
        "id": "Mul4MuK1SdRb"
      },
      "execution_count": null,
      "outputs": []
    },
    {
      "cell_type": "code",
      "source": [
        "# build models across a range of num_topics and alpha\n",
        "num_topics_range=[2,6,10,15]\n",
        "alpha_range=[0.01,0.1,1]\n",
        "model_list, coherence_values=compute_coherence_values(dictionary=id2word,corpus=corpus,texts=data_lemmatized,\n",
        "                                                      num_topics_range=num_topics_range,\n",
        "                                                     alpha_range=alpha_range)\n",
        "\n",
        "coherence_df = pd.DataFrame(coherence_values,columns=['alpha','num_topics','coherence_value'])"
      ],
      "metadata": {
        "id": "jzZTzh2vSSo5"
      },
      "execution_count": null,
      "outputs": []
    },
    {
      "cell_type": "code",
      "source": [
        "coherence_df"
      ],
      "metadata": {
        "id": "3MUWKCwzY1RK",
        "colab": {
          "base_uri": "https://localhost:8080/",
          "height": 426
        },
        "outputId": "cf803888-cb3d-4f0c-bcf2-3f08ffd237bc"
      },
      "execution_count": null,
      "outputs": [
        {
          "output_type": "execute_result",
          "data": {
            "text/plain": [
              "    alpha  num_topics  coherence_value\n",
              "0    0.01           2         0.316005\n",
              "1    0.01           6         0.333094\n",
              "2    0.01          10         0.379122\n",
              "3    0.01          15         0.383301\n",
              "4    0.10           2         0.336832\n",
              "5    0.10           6         0.339355\n",
              "6    0.10          10         0.354522\n",
              "7    0.10          15         0.396005\n",
              "8    1.00           2         0.368982\n",
              "9    1.00           6         0.289678\n",
              "10   1.00          10         0.327722\n",
              "11   1.00          15         0.369431"
            ],
            "text/html": [
              "\n",
              "  <div id=\"df-b788a366-08d4-49cf-92d3-0f2406a6543a\">\n",
              "    <div class=\"colab-df-container\">\n",
              "      <div>\n",
              "<style scoped>\n",
              "    .dataframe tbody tr th:only-of-type {\n",
              "        vertical-align: middle;\n",
              "    }\n",
              "\n",
              "    .dataframe tbody tr th {\n",
              "        vertical-align: top;\n",
              "    }\n",
              "\n",
              "    .dataframe thead th {\n",
              "        text-align: right;\n",
              "    }\n",
              "</style>\n",
              "<table border=\"1\" class=\"dataframe\">\n",
              "  <thead>\n",
              "    <tr style=\"text-align: right;\">\n",
              "      <th></th>\n",
              "      <th>alpha</th>\n",
              "      <th>num_topics</th>\n",
              "      <th>coherence_value</th>\n",
              "    </tr>\n",
              "  </thead>\n",
              "  <tbody>\n",
              "    <tr>\n",
              "      <th>0</th>\n",
              "      <td>0.01</td>\n",
              "      <td>2</td>\n",
              "      <td>0.316005</td>\n",
              "    </tr>\n",
              "    <tr>\n",
              "      <th>1</th>\n",
              "      <td>0.01</td>\n",
              "      <td>6</td>\n",
              "      <td>0.333094</td>\n",
              "    </tr>\n",
              "    <tr>\n",
              "      <th>2</th>\n",
              "      <td>0.01</td>\n",
              "      <td>10</td>\n",
              "      <td>0.379122</td>\n",
              "    </tr>\n",
              "    <tr>\n",
              "      <th>3</th>\n",
              "      <td>0.01</td>\n",
              "      <td>15</td>\n",
              "      <td>0.383301</td>\n",
              "    </tr>\n",
              "    <tr>\n",
              "      <th>4</th>\n",
              "      <td>0.10</td>\n",
              "      <td>2</td>\n",
              "      <td>0.336832</td>\n",
              "    </tr>\n",
              "    <tr>\n",
              "      <th>5</th>\n",
              "      <td>0.10</td>\n",
              "      <td>6</td>\n",
              "      <td>0.339355</td>\n",
              "    </tr>\n",
              "    <tr>\n",
              "      <th>6</th>\n",
              "      <td>0.10</td>\n",
              "      <td>10</td>\n",
              "      <td>0.354522</td>\n",
              "    </tr>\n",
              "    <tr>\n",
              "      <th>7</th>\n",
              "      <td>0.10</td>\n",
              "      <td>15</td>\n",
              "      <td>0.396005</td>\n",
              "    </tr>\n",
              "    <tr>\n",
              "      <th>8</th>\n",
              "      <td>1.00</td>\n",
              "      <td>2</td>\n",
              "      <td>0.368982</td>\n",
              "    </tr>\n",
              "    <tr>\n",
              "      <th>9</th>\n",
              "      <td>1.00</td>\n",
              "      <td>6</td>\n",
              "      <td>0.289678</td>\n",
              "    </tr>\n",
              "    <tr>\n",
              "      <th>10</th>\n",
              "      <td>1.00</td>\n",
              "      <td>10</td>\n",
              "      <td>0.327722</td>\n",
              "    </tr>\n",
              "    <tr>\n",
              "      <th>11</th>\n",
              "      <td>1.00</td>\n",
              "      <td>15</td>\n",
              "      <td>0.369431</td>\n",
              "    </tr>\n",
              "  </tbody>\n",
              "</table>\n",
              "</div>\n",
              "      <button class=\"colab-df-convert\" onclick=\"convertToInteractive('df-b788a366-08d4-49cf-92d3-0f2406a6543a')\"\n",
              "              title=\"Convert this dataframe to an interactive table.\"\n",
              "              style=\"display:none;\">\n",
              "        \n",
              "  <svg xmlns=\"http://www.w3.org/2000/svg\" height=\"24px\"viewBox=\"0 0 24 24\"\n",
              "       width=\"24px\">\n",
              "    <path d=\"M0 0h24v24H0V0z\" fill=\"none\"/>\n",
              "    <path d=\"M18.56 5.44l.94 2.06.94-2.06 2.06-.94-2.06-.94-.94-2.06-.94 2.06-2.06.94zm-11 1L8.5 8.5l.94-2.06 2.06-.94-2.06-.94L8.5 2.5l-.94 2.06-2.06.94zm10 10l.94 2.06.94-2.06 2.06-.94-2.06-.94-.94-2.06-.94 2.06-2.06.94z\"/><path d=\"M17.41 7.96l-1.37-1.37c-.4-.4-.92-.59-1.43-.59-.52 0-1.04.2-1.43.59L10.3 9.45l-7.72 7.72c-.78.78-.78 2.05 0 2.83L4 21.41c.39.39.9.59 1.41.59.51 0 1.02-.2 1.41-.59l7.78-7.78 2.81-2.81c.8-.78.8-2.07 0-2.86zM5.41 20L4 18.59l7.72-7.72 1.47 1.35L5.41 20z\"/>\n",
              "  </svg>\n",
              "      </button>\n",
              "      \n",
              "  <style>\n",
              "    .colab-df-container {\n",
              "      display:flex;\n",
              "      flex-wrap:wrap;\n",
              "      gap: 12px;\n",
              "    }\n",
              "\n",
              "    .colab-df-convert {\n",
              "      background-color: #E8F0FE;\n",
              "      border: none;\n",
              "      border-radius: 50%;\n",
              "      cursor: pointer;\n",
              "      display: none;\n",
              "      fill: #1967D2;\n",
              "      height: 32px;\n",
              "      padding: 0 0 0 0;\n",
              "      width: 32px;\n",
              "    }\n",
              "\n",
              "    .colab-df-convert:hover {\n",
              "      background-color: #E2EBFA;\n",
              "      box-shadow: 0px 1px 2px rgba(60, 64, 67, 0.3), 0px 1px 3px 1px rgba(60, 64, 67, 0.15);\n",
              "      fill: #174EA6;\n",
              "    }\n",
              "\n",
              "    [theme=dark] .colab-df-convert {\n",
              "      background-color: #3B4455;\n",
              "      fill: #D2E3FC;\n",
              "    }\n",
              "\n",
              "    [theme=dark] .colab-df-convert:hover {\n",
              "      background-color: #434B5C;\n",
              "      box-shadow: 0px 1px 3px 1px rgba(0, 0, 0, 0.15);\n",
              "      filter: drop-shadow(0px 1px 2px rgba(0, 0, 0, 0.3));\n",
              "      fill: #FFFFFF;\n",
              "    }\n",
              "  </style>\n",
              "\n",
              "      <script>\n",
              "        const buttonEl =\n",
              "          document.querySelector('#df-b788a366-08d4-49cf-92d3-0f2406a6543a button.colab-df-convert');\n",
              "        buttonEl.style.display =\n",
              "          google.colab.kernel.accessAllowed ? 'block' : 'none';\n",
              "\n",
              "        async function convertToInteractive(key) {\n",
              "          const element = document.querySelector('#df-b788a366-08d4-49cf-92d3-0f2406a6543a');\n",
              "          const dataTable =\n",
              "            await google.colab.kernel.invokeFunction('convertToInteractive',\n",
              "                                                     [key], {});\n",
              "          if (!dataTable) return;\n",
              "\n",
              "          const docLinkHtml = 'Like what you see? Visit the ' +\n",
              "            '<a target=\"_blank\" href=https://colab.research.google.com/notebooks/data_table.ipynb>data table notebook</a>'\n",
              "            + ' to learn more about interactive tables.';\n",
              "          element.innerHTML = '';\n",
              "          dataTable['output_type'] = 'display_data';\n",
              "          await google.colab.output.renderOutput(dataTable, element);\n",
              "          const docLink = document.createElement('div');\n",
              "          docLink.innerHTML = docLinkHtml;\n",
              "          element.appendChild(docLink);\n",
              "        }\n",
              "      </script>\n",
              "    </div>\n",
              "  </div>\n",
              "  "
            ]
          },
          "metadata": {},
          "execution_count": 17
        }
      ]
    },
    {
      "cell_type": "code",
      "source": [
        "# plot\n",
        "def plot_coherence(coherence_df,alpha_range,num_topics_range):\n",
        "    plt.figure(figsize=(16,6))\n",
        "\n",
        "    for i,val in enumerate(alpha_range):\n",
        "        #subolot 1/3/i\n",
        "        plt.subplot(1,3,i+1)\n",
        "        alpha_subset=coherence_df[coherence_df['alpha']==val]\n",
        "        plt.plot(alpha_subset['num_topics'],alpha_subset['coherence_value'])\n",
        "        plt.xlabel('num_topics')\n",
        "        plt.ylabel('Coherence Value')\n",
        "        plt.title('alpha={0}'.format(val))\n",
        "        plt.ylim([0.30,1])\n",
        "        plt.legend('coherence value', loc='upper left')\n",
        "        plt.xticks(num_topics_range)"
      ],
      "metadata": {
        "id": "yXkiU8r6SYta"
      },
      "execution_count": null,
      "outputs": []
    },
    {
      "cell_type": "code",
      "source": [
        "# plot\n",
        "plot_coherence(coherence_df,alpha_range,num_topics_range)"
      ],
      "metadata": {
        "colab": {
          "base_uri": "https://localhost:8080/",
          "height": 405
        },
        "id": "_PmYgKrNSmzD",
        "outputId": "6be6070e-c5e7-4a96-b682-8cb176337629"
      },
      "execution_count": null,
      "outputs": [
        {
          "output_type": "display_data",
          "data": {
            "text/plain": [
              "<Figure size 1152x432 with 3 Axes>"
            ],
            "image/png": "[encoded data removed]"
          },
          "metadata": {
            "needs_background": "light"
          }
        }
      ]
    },
    {
      "cell_type": "markdown",
      "source": [
        "## **MODEL BUILDING**"
      ],
      "metadata": {
        "id": "O1F2OJk0beC1"
      }
    },
    {
      "cell_type": "code",
      "source": [
        "# Build LDA model with alpha=0.1 and 10 topics\n",
        "lda_model= gensim.models.ldamodel.LdaModel(corpus=corpus, id2word=id2word, num_topics=10, random_state=100,\\\n",
        "                                          update_every=1,chunksize=100, passes=10, alpha=0.1, per_word_topics=True)"
      ],
      "metadata": {
        "id": "_-Cjp8lnSsWh"
      },
      "execution_count": null,
      "outputs": []
    },
    {
      "cell_type": "code",
      "source": [
        "# print keywords\n",
        "pprint(lda_model.print_topics())\n",
        "doc_lda = lda_model[corpus]"
      ],
      "metadata": {
        "colab": {
          "base_uri": "https://localhost:8080/"
        },
        "id": "IvPmSXmlSttp",
        "outputId": "eb09d45d-9556-44e3-985c-9eecc8e80941"
      },
      "execution_count": null,
      "outputs": [
        {
          "output_type": "stream",
          "name": "stdout",
          "text": [
            "[(0,\n",
            "  '0.309*\"bd\" + 0.130*\"demonetization\" + 0.087*\"ad\" + 0.087*\"tcoobqrhlnsl\" + '\n",
            "  '0.042*\"note\" + 0.031*\"ed\" + 0.025*\"lakh\" + 0.022*\"prove\" + 0.019*\"seat\" + '\n",
            "  '0.017*\"retain\"'),\n",
            " (1,\n",
            "  '0.113*\"demonetization\" + 0.068*\"due\" + 0.056*\"need\" + 0.052*\"think\" + '\n",
            "  '0.036*\"watch\" + 0.031*\"initiative\" + 0.028*\"lifeinsurance\" + 0.028*\"wise\" + '\n",
            "  '0.027*\"secure\" + 0.023*\"farmer\"'),\n",
            " (2,\n",
            "  '0.135*\"get\" + 0.105*\"demonetization\" + 0.043*\"shortage\" + 0.042*\"come\" + '\n",
            "  '0.038*\"hour\" + 0.038*\"time\" + 0.029*\"wedding\" + 0.028*\"impact\" + '\n",
            "  '0.022*\"end\" + 0.019*\"fund\"'),\n",
            " (3,\n",
            "  '0.136*\"demonetization\" + 0.027*\"parliament\" + 0.027*\"affect\" + '\n",
            "  '0.026*\"decision\" + 0.024*\"solution\" + 0.024*\"innovative\" + 0.023*\"crisis\" + '\n",
            "  '0.021*\"street\" + 0.021*\"station\" + 0.021*\"detaiend\"'),\n",
            " (4,\n",
            "  '0.105*\"bank\" + 0.090*\"demonetization\" + 0.083*\"money\" + 0.044*\"terrorist\" + '\n",
            "  '0.041*\"bcoz\" + 0.030*\"black\" + 0.025*\"vote\" + 0.020*\"prominent\" + '\n",
            "  '0.020*\"thane\" + 0.014*\"many\"'),\n",
            " (5,\n",
            "  '0.126*\"people\" + 0.119*\"demonetization\" + 0.072*\"support\" + 0.044*\"take\" + '\n",
            "  '0.035*\"profit\" + 0.031*\"help\" + 0.028*\"state\" + 0.028*\"effect\" + '\n",
            "  '0.023*\"give\" + 0.023*\"continue\"'),\n",
            " (6,\n",
            "  '0.121*\"demonetization\" + 0.034*\"even\" + 0.029*\"want\" + 0.028*\"severe\" + '\n",
            "  '0.027*\"reconfigure\" + 0.027*\"dire\" + 0.027*\"bulletin\" + 0.026*\"ch\" + '\n",
            "  '0.019*\"stand\" + 0.013*\"explain\"'),\n",
            " (7,\n",
            "  '0.155*\"go\" + 0.100*\"demonetization\" + 0.035*\"crore\" + 0.035*\"indeed\" + '\n",
            "  '0.026*\"ahead\" + 0.024*\"new\" + 0.021*\"know\" + 0.020*\"big\" + 0.019*\"htt\" + '\n",
            "  '0.014*\"medium\"'),\n",
            " (8,\n",
            "  '0.111*\"demonetization\" + 0.072*\"day\" + 0.045*\"move\" + 0.041*\"bjp\" + '\n",
            "  '0.039*\"mamata\" + 0.038*\"windfall\" + 0.037*\"whooping\" + 0.019*\"fake\" + '\n",
            "  '0.019*\"feel\" + 0.018*\"wipe\"'),\n",
            " (9,\n",
            "  '0.104*\"amp\" + 0.079*\"demonetization\" + 0.068*\"pm\" + 0.061*\"paytm\" + '\n",
            "  '0.059*\"question\" + 0.054*\"full\" + 0.053*\"critical\" + 0.053*\"inform\" + '\n",
            "  '0.053*\"edict\" + 0.053*\"clearly\"')]\n"
          ]
        }
      ]
    },
    {
      "cell_type": "code",
      "source": [
        "# coherence score\n",
        "coherence_model_lda = CoherenceModel(model=lda_model, texts=data_lemmatized, dictionary=id2word, coherence='c_v')\n",
        "coherence_lda = coherence_model_lda.get_coherence()\n",
        "print('Coherence Score: ', coherence_lda)"
      ],
      "metadata": {
        "colab": {
          "base_uri": "https://localhost:8080/"
        },
        "id": "MMP_EWICSwCL",
        "outputId": "ce78509d-c8e8-42b7-893d-2468444e66c8"
      },
      "execution_count": null,
      "outputs": [
        {
          "output_type": "stream",
          "name": "stdout",
          "text": [
            "Coherence Score:  0.4841000632961638\n"
          ]
        }
      ]
    },
    {
      "cell_type": "code",
      "source": [
        "# Visualize the topics\n",
        "pyLDAvis.enable_notebook()\n",
        "vis = pyLDAvis.gensim.prepare(lda_model, corpus, id2word)\n",
        "vis"
      ],
      "metadata": {
        "colab": {
          "base_uri": "https://localhost:8080/",
          "height": 916
        },
        "id": "-NLL_s_mSyFy",
        "outputId": "f2a531a2-c7ca-4002-914b-41bf18d3f6e8"
      },
      "execution_count": null,
      "outputs": [
        {
          "output_type": "stream",
          "name": "stderr",
          "text": [
            "/usr/local/lib/python3.9/dist-packages/pyLDAvis/_prepare.py:243: FutureWarning: In a future version of pandas all arguments of DataFrame.drop except for the argument 'labels' will be keyword-only.\n",
            "  default_term_info = default_term_info.sort_values(\n"
          ]
        },
        {
          "output_type": "execute_result",
          "data": {
            "text/plain": [
              "PreparedData(topic_coordinates=              x         y  topics  cluster       Freq\n",
              "topic                                                \n",
              "1     -0.028598 -0.057987       1        1  12.675272\n",
              "5     -0.005027 -0.074948       2        1  12.376451\n",
              "9     -0.396314 -0.035401       3        1  12.073030\n",
              "0     -0.000374  0.382076       4        1  10.378628\n",
              "4      0.085498 -0.070247       5        1   9.826450\n",
              "2      0.070482 -0.023042       6        1   9.669017\n",
              "7      0.064443 -0.025488       7        1   9.200625\n",
              "3      0.075288 -0.031670       8        1   8.455376\n",
              "8      0.067965 -0.035674       9        1   8.327868\n",
              "6      0.066637 -0.027620      10        1   7.017284, topic_info=                Term         Freq        Total Category  logprob  loglift\n",
              "77                bd  2113.000000  2113.000000  Default  30.0000  30.0000\n",
              "352               go   942.000000   942.000000  Default  29.0000  29.0000\n",
              "71            people  1030.000000  1030.000000  Default  28.0000  28.0000\n",
              "154              get   859.000000   859.000000  Default  27.0000  27.0000\n",
              "0                amp   828.000000   828.000000  Default  26.0000  26.0000\n",
              "...              ...          ...          ...      ...      ...      ...\n",
              "3254        laudable    32.728935    33.641422  Topic10  -4.9519   2.6293\n",
              "3255             map    32.728935    33.641422  Topic10  -4.9519   2.6293\n",
              "3253   institutional    31.504945    32.417442  Topic10  -4.9900   2.6282\n",
              "3252    architecture    30.409961    31.322472  Topic10  -5.0253   2.6272\n",
              "3     demonetization   560.338185  7217.388344  Topic10  -2.1116   0.1011\n",
              "\n",
              "[354 rows x 6 columns], token_table=      Topic      Freq          Term\n",
              "term                               \n",
              "1578      4  0.989603          abov\n",
              "543       4  0.997608            ad\n",
              "1550     10  0.984214       adverse\n",
              "185       8  0.993221        affect\n",
              "3963     10  0.990959  agricultural\n",
              "...     ...       ...           ...\n",
              "253       2  0.976335      withdraw\n",
              "486       9  0.985114         world\n",
              "3198      4  0.980875       xhizedw\n",
              "1734      2  0.039307       youtube\n",
              "1734      5  0.943379       youtube\n",
              "\n",
              "[340 rows x 3 columns], R=30, lambda_step=0.01, plot_opts={'xlab': 'PC1', 'ylab': 'PC2'}, topic_order=[2, 6, 10, 1, 5, 3, 8, 4, 9, 7])"
            ],
            "text/html": [
              "\n",
              "<link rel=\"stylesheet\" type=\"text/css\" href=\"https://cdn.jsdelivr.net/gh/bmabey/pyLDAvis@3.4.0/pyLDAvis/js/ldavis.v1.0.0.css\">\n",
              "\n",
              "\n",
              "<div id=\"ldavis_el2911402315187593922571123469\" style=\"background-color:white;\"></div>\n",
              "<script type=\"text/javascript\">\n",
              "\n",
              "var ldavis_el2911402315187593922571123469_data = {\"mdsDat\": {\"x\": [-0.028597688303944893, -0.005027351613505719, -0.39631436244349694, -0.00037409515396715675, 0.08549835373600552, 0.0704823011585649, 0.06444292570652727, 0.07528815901204858, 0.06796522282984598, 0.06663653507192248], \"y\": [-0.05798671198154937, -0.07494805831851918, -0.03540085235944044, 0.38207602728491835, -0.07024721834491923, -0.023041949794850882, -0.025487936822478758, -0.03166998857349933, -0.03567364303743987, -0.027619668052221342], \"topics\": [1, 2, 3, 4, 5, 6, 7, 8, 9, 10], \"cluster\": [1, 1, 1, 1, 1, 1, 1, 1, 1, 1], \"Freq\": [12.67527213246391, 12.376451036765822, 12.073029895310707, 10.378627731589557, 9.826449926332057, 9.669016939111081, 9.200624714358682, 8.455375739789497, 8.327868219810702, 7.017283664467984]}, \"tinfo\": {\"Term\": [\"bd\", \"go\", \"people\", \"get\", \"amp\", \"bank\", \"ad\", \"tcoobqrhlnsl\", \"money\", \"support\", \"due\", \"paytm\", \"pm\", \"question\", \"day\", \"need\", \"full\", \"think\", \"critical\", \"inform\", \"edict\", \"clearly\", \"require\", \"fishy\", \"disclosure\", \"take\", \"terrorist\", \"note\", \"modi\", \"shortage\", \"due\", \"need\", \"think\", \"watch\", \"initiative\", \"lifeinsurance\", \"wise\", \"secure\", \"farmer\", \"bypoll\", \"view\", \"tco\", \"debate\", \"problem\", \"start\", \"say\", \"use\", \"praise\", \"poll\", \"shut\", \"claim\", \"stall\", \"read\", \"quite\", \"rapidly\", \"party\", \"plan\", \"create\", \"story\", \"relate\", \"demonetization\", \"pm\", \"people\", \"take\", \"profit\", \"help\", \"state\", \"effect\", \"give\", \"continue\", \"liquidity\", \"protest\", \"download\", \"tomorrow\", \"keep\", \"demonetisation\", \"cash\", \"itvideo\", \"improve\", \"issue\", \"indore\", \"rbi\", \"farmhouse\", \"leader\", \"withdraw\", \"step\", \"rupee\", \"corrupt\", \"bold\", \"citizen\", \"great\", \"post\", \"support\", \"demonetization\", \"pm\", \"amp\", \"paytm\", \"question\", \"full\", \"critical\", \"inform\", \"edict\", \"clearly\", \"require\", \"fishy\", \"disclosure\", \"modi\", \"terrorism\", \"body\", \"opks\", \"lose\", \"curse\", \"terror\", \"opposition\", \"do\", \"funding\", \"rule\", \"stop\", \"design\", \"currencyban\", \"banking\", \"separatist\", \"nefarious\", \"nexus\", \"pakistan\", \"pm\", \"demonetization\", \"bd\", \"ad\", \"tcoobqrhlnsl\", \"note\", \"ed\", \"lakh\", \"prove\", \"seat\", \"retain\", \"govt\", \"byelection\", \"abov\", \"useless\", \"hitler\", \"less\", \"netascashin\", \"birthday\", \"minister\", \"result\", \"insight\", \"dispense\", \"recalibrate\", \"mean\", \"win\", \"happiness\", \"minimalism\", \"stuff\", \"teach\", \"xhizedw\", \"prime\", \"demonetization\", \"bank\", \"money\", \"terrorist\", \"bcoz\", \"black\", \"vote\", \"many\", \"s\", \"prominent\", \"thane\", \"loot\", \"incident\", \"kishtwar\", \"third\", \"exchange\", \"name\", \"exclusion\", \"saver\", \"iamwithmodi\", \"clap\", \"slow\", \"brain\", \"chinar\", \"involve\", \"tcoo\", \"beat\", \"swkhuo\", \"participate\", \"bus\", \"group\", \"gxlawl\", \"tcoqe\", \"pak\", \"youtube\", \"milk\", \"producer\", \"tcownlckgtyij\", \"update\", \"demonetization\", \"get\", \"shortage\", \"come\", \"hour\", \"time\", \"wedding\", \"impact\", \"end\", \"fund\", \"life\", \"poor\", \"daughter\", \"gujarat\", \"survey\", \"tcodgai\", \"owner\", \"maoist\", \"nomoneyyaar\", \"blackmoney\", \"batch\", \"feedback\", \"strategy\", \"rmg\", \"tcopygk\", \"ahmedabad\", \"coop\", \"reddy\", \"sme\", \"opinion\", \"uturned\", \"finish\", \"demonetization\", \"go\", \"crore\", \"indeed\", \"ahead\", \"new\", \"know\", \"big\", \"htt\", \"medium\", \"old\", \"reaction\", \"social\", \"currency\", \"real\", \"run\", \"raid\", \"finance\", \"tight\", \"squeeze\", \"struggle\", \"friend\", \"celebrate\", \"tcorlrtki\", \"inconvenience\", \"week\", \"economic\", \"country\", \"high\", \"pay\", \"major\", \"demonetization\", \"parliament\", \"affect\", \"decision\", \"solution\", \"innovative\", \"crisis\", \"street\", \"station\", \"detaiend\", \"immense\", \"good\", \"courage\", \"momentous\", \"stage\", \"bad\", \"government\", \"public\", \"directly\", \"que\", \"much\", \"begin\", \"increase\", \"rich\", \"productivity\", \"creativity\", \"see\", \"print\", \"startup\", \"payment\", \"try\", \"demonetization\", \"day\", \"bjp\", \"mamata\", \"windfall\", \"whooping\", \"fake\", \"feel\", \"wipe\", \"honest\", \"thing\", \"historic\", \"vindicate\", \"reason\", \"atm\", \"thank\", \"long\", \"re\", \"head\", \"shave\", \"tcoiexuia\", \"away\", \"queue\", \"believe\", \"let\", \"make\", \"app\", \"oppose\", \"positive\", \"meet\", \"world\", \"move\", \"demonetization\", \"even\", \"want\", \"severe\", \"bulletin\", \"dire\", \"reconfigure\", \"ch\", \"stand\", \"explain\", \"board\", \"agricultural\", \"matterbjp\", \"panvel\", \"propaganda\", \"thug\", \"delhitie\", \"adverse\", \"report\", \"oppn\", \"aim\", \"video\", \"first\", \"kill\", \"road\", \"exercise\", \"tcoucs\", \"laudable\", \"map\", \"institutional\", \"architecture\", \"demonetization\"], \"Freq\": [2113.0, 942.0, 1030.0, 859.0, 828.0, 678.0, 598.0, 593.0, 536.0, 617.0, 565.0, 488.0, 708.0, 471.0, 396.0, 467.0, 428.0, 437.0, 419.0, 419.0, 419.0, 419.0, 419.0, 415.0, 408.0, 363.0, 286.0, 289.0, 310.0, 272.0, 565.0264672189165, 466.88362151227903, 436.57738596574046, 297.89660481268857, 256.7045714528878, 234.12691750198343, 234.12691750198343, 226.36184484936877, 194.1555979941115, 146.57439016642604, 131.5994602646519, 124.43399034472596, 120.39109116387358, 119.64511926622451, 118.86370759044527, 96.5603283979506, 93.22599894942998, 89.04033610071114, 88.98578640925832, 84.4687526796841, 83.29444305493116, 76.61939861228088, 76.54235155343231, 71.25466034135457, 71.25466034135457, 59.227566952863235, 54.606273616719974, 51.997844427059036, 49.59573065857598, 49.13782863402735, 947.9445871307604, 82.20239794702442, 1029.9838706858677, 362.16890691884356, 286.4892302895038, 250.19825860683744, 227.55582060726707, 225.36036868847378, 191.4278867170574, 184.32934806263265, 175.23740208512206, 165.47231882141602, 141.50720802670432, 133.38821186018004, 119.33898022041588, 105.57888555928973, 96.53504036878972, 95.45819407444701, 87.25911610444575, 86.90610073319377, 76.7298188509697, 58.467095895421785, 55.84137156357746, 51.504305478508876, 49.31049595143144, 48.16135780876387, 47.65765679941796, 45.035209647339926, 44.852181818675426, 42.805799759089, 42.10665033372769, 37.244623390991734, 585.6521891567714, 968.3577445782114, 82.01806165129196, 827.0667056267861, 487.44599073451377, 470.07380314123986, 427.734783062024, 419.0245535213605, 418.99865247091765, 418.9902561395599, 418.8979558326555, 418.8308148508089, 414.6590249266239, 407.82105860267666, 309.420208752021, 82.47045772968266, 63.05365960924317, 61.52197814616592, 60.83274095807251, 34.82575729578556, 31.13588860597066, 29.961835600192316, 28.080347174000572, 25.054408002144243, 23.08337848748011, 19.45131616554208, 19.121558039583054, 18.909224313630524, 17.6911054027317, 17.610461310251914, 17.607967258644987, 17.607967258644987, 17.607967258644987, 543.5062777171529, 625.3496214683595, 2112.338365469497, 597.4988253937255, 592.2483483859739, 288.23723644351145, 209.22200811435988, 168.71461370667663, 147.5645721360752, 126.97866481057217, 119.60154822551881, 119.51679482467961, 115.67112520227947, 113.25427600371715, 94.82298733487806, 76.00515633488683, 44.5873728790631, 37.11718504699279, 35.25233923699135, 29.90802582964222, 27.497036424592633, 27.27196998115885, 27.186062475177312, 27.166627599631276, 25.97009634077408, 25.778022320173, 24.933140840726875, 24.933140840726875, 24.933140840726875, 24.933140840726875, 24.554495521833186, 24.46279836132547, 892.039669351775, 677.479792881658, 535.7059290646855, 285.99982533632095, 267.79892101763073, 197.65924091477723, 159.61870396031475, 92.56770248614677, 87.18603214595163, 128.00035007819554, 128.00035007819554, 59.26903720726089, 58.312372819151534, 58.312372819151534, 58.312372819151534, 53.373663699742785, 30.47879155816141, 33.81927782987595, 33.81927782987595, 26.73975247654315, 36.61932593595406, 36.61932593595406, 20.19295147060245, 48.24710627785647, 16.249729385888653, 15.93514716993133, 15.901074158645066, 15.738463670427281, 15.533649797438157, 18.294559821983864, 14.028539120114907, 35.735975270215434, 35.735975270215434, 29.081710558453693, 23.7196937774794, 73.127027141454, 64.93881888527063, 34.23753853229278, 24.301475050759553, 580.7656633069628, 858.3984254601241, 272.08031357886443, 271.0172117488602, 242.67380160814085, 240.3237432658394, 181.89616234836157, 178.29216374267978, 139.51117559154193, 123.86874454568007, 122.48567380029984, 111.58751971152171, 110.25755534709093, 109.29540316337919, 104.1902998313926, 103.22019951147165, 102.00657019899994, 99.85180552337567, 99.85180552337567, 87.47321305049891, 76.48865119692316, 63.7721560095556, 63.20904422184828, 60.10478616539856, 60.10478616539856, 48.78267207568503, 47.590104136105516, 42.57175607711403, 40.511890840959346, 35.768585124735274, 35.375128621134934, 50.270155668710515, 667.5174119343096, 941.4153353592029, 211.6880891555714, 210.71415530510714, 160.0893676904199, 144.42882791758745, 128.41812416234896, 118.70387166135332, 115.60437664203721, 83.44142935433665, 80.82115727084386, 78.6217342701637, 74.29678401591374, 67.70258484772312, 57.927053084551716, 56.709008338752874, 52.771184071831684, 51.30472684242081, 51.286644344523914, 51.24798092295006, 50.8683106451324, 48.426037267101705, 47.490252456433055, 43.65809972965989, 43.16906679849425, 42.947153455282546, 42.607887583518966, 41.16794079960245, 39.951442025411865, 39.73253018466445, 38.547329563288834, 604.1689603723108, 150.0608254880179, 148.0988112096689, 146.96201526625055, 131.63335275192907, 131.16911354360414, 127.60501478578736, 117.83713468007329, 117.82131164913875, 116.82887618821245, 88.67261859618412, 85.72510377033547, 77.10803488626082, 76.5993550903965, 73.85049566474437, 69.7476346513975, 63.84615838729385, 58.678718034616594, 58.59398222351871, 57.333911051240364, 56.15795752174697, 52.697877270638394, 51.78220896373396, 50.32686413555929, 49.82771140428261, 49.69407796016213, 49.12248525305415, 46.28938870670784, 45.97767084154409, 45.92232140142344, 44.49482531548123, 760.2529386579014, 395.82909256880475, 226.10380260175052, 212.13826009172666, 206.28639781833786, 205.26417045972818, 105.97691285477052, 105.6526280120139, 96.2034971345509, 93.25875827512806, 78.79655067366257, 78.4184622367242, 75.20524774007296, 72.7880562937427, 70.3206938656184, 67.05324088456996, 64.95770447428184, 59.18636340336855, 55.7455171352509, 55.734956977549196, 55.734956977549196, 54.88362612453661, 53.393641082922585, 42.42424913031849, 42.36021794154094, 39.98856205894382, 38.424788938660214, 38.26868893309863, 37.765679560867184, 36.68195616761811, 36.64966940638912, 245.75858914272564, 610.6535620777705, 156.94986373196687, 134.95974605156295, 127.87388616746276, 124.25040187470343, 124.25040187470343, 124.25040187470343, 119.34848964238738, 87.35203424767428, 60.63706008177143, 58.63884226583985, 58.60787938937242, 58.60787938937242, 58.60787938937242, 53.76094329193698, 50.87931348175695, 50.83081273541074, 46.84142156750577, 46.05111807270969, 44.874481343995676, 40.686724279123425, 38.95254452630062, 38.157942787583906, 36.44191740301567, 35.48214583371975, 34.057573289683894, 41.882731128133756, 32.72893522192086, 32.72893522192086, 31.504944520063123, 30.409961492308867, 560.3381846327957], \"Total\": [2113.0, 942.0, 1030.0, 859.0, 828.0, 678.0, 598.0, 593.0, 536.0, 617.0, 565.0, 488.0, 708.0, 471.0, 396.0, 467.0, 428.0, 437.0, 419.0, 419.0, 419.0, 419.0, 419.0, 415.0, 408.0, 363.0, 286.0, 289.0, 310.0, 272.0, 565.9103352767748, 467.76740350414593, 437.4610702753703, 298.7803252903948, 257.58835838878116, 235.03122625221297, 235.03122625221297, 227.2680997900486, 195.03931629350382, 147.45824638543317, 132.48316861831046, 125.31773937983252, 121.2748415387949, 120.52882321988417, 119.74745247841703, 97.44403606781661, 94.10973509276295, 89.92409979778579, 89.86992690282979, 85.35238002175315, 84.17829849549011, 77.50303056827455, 77.42619733108927, 72.241378880211, 72.241378880211, 60.11121055240299, 55.48999477944378, 52.88158399356404, 50.479718735824925, 50.02167784866648, 7217.3883435111575, 708.4313237793513, 1030.8610010176126, 363.04602871913784, 287.36647414928734, 251.07566006889013, 228.43288577952322, 226.23755680977058, 192.30510932875296, 185.20656160521588, 176.11477562148585, 166.34947126126593, 142.38466652872913, 134.26542721976244, 120.21611928662075, 106.45600774467086, 97.41220027418042, 96.33553496728172, 88.13665779681332, 87.78331357863561, 77.60711339122334, 59.34433593656851, 56.71886252064228, 52.38147166522713, 50.187691458350464, 49.038442859362284, 48.53497612580437, 45.91241794301142, 45.72941334529505, 43.68292628647692, 42.98399641823441, 38.12192522058834, 617.7172221140856, 7217.3883435111575, 708.4313237793513, 828.0081634447307, 488.38717682850256, 471.01495170393565, 428.67592560262335, 419.9656731832182, 419.9397720229968, 419.93137569163906, 419.8390758322359, 419.7719415591816, 415.6001444554987, 408.76217799005855, 310.36150116320556, 83.41162272735407, 63.9952053628216, 62.463138274526884, 61.77431812790284, 35.76707176911263, 32.07818766410062, 30.903506148124947, 29.021673788612304, 25.99567571704612, 24.024745939026182, 20.392578124012445, 20.062759554417614, 19.853055622414875, 18.632251288049012, 18.55167220441474, 18.549182431911625, 18.549182431911625, 18.549182431911625, 708.4313237793513, 7217.3883435111575, 2113.2712711596846, 598.431719624811, 593.1812422393915, 289.17046289782286, 210.15499311814065, 169.64834875612274, 148.49753652968514, 127.91159000275553, 120.5344624985163, 120.44993591038563, 116.6040363466376, 114.18718697324637, 95.75709979771324, 76.93828224756439, 45.52036102390562, 38.05134696504153, 36.18537180168354, 30.841002308158103, 28.430041911565816, 28.204892288821704, 28.119084279654597, 28.099532717346538, 26.90321797103508, 26.711485495305602, 25.866031707060618, 25.866031707060618, 25.866031707060618, 25.866031707060618, 25.487442127896347, 25.39569619228036, 7217.3883435111575, 678.2940406171693, 536.5202162946509, 286.8140517488314, 268.61360795556675, 198.4735092252889, 160.43304818955258, 93.38198478459817, 88.00022744744453, 129.73399348417564, 129.73399348417564, 60.0832218092103, 59.12655731397902, 59.12655731397902, 59.12655731397902, 54.188064256552344, 31.293166159490138, 34.74886967631312, 34.74886967631312, 27.584919830400548, 37.97728808719338, 37.97728808719338, 21.03204664837992, 50.303986681810855, 17.067291153633956, 16.749424792197708, 16.715302598398463, 16.55297477469069, 16.347967791826616, 19.296210765130667, 14.842778764399478, 37.83428189609386, 37.83428189609386, 30.952566598141814, 25.44046942673023, 84.35138262828328, 80.37093071433897, 39.269514777447185, 27.8796247638357, 7217.3883435111575, 859.2842916635758, 272.96608650021744, 271.90285103390846, 243.56276678261804, 241.209584215887, 182.78178014518957, 179.17797673884755, 140.3968136309017, 124.75435143627337, 123.37127944675483, 112.47341887315014, 111.14314340673609, 110.1809906887849, 105.07599013418482, 104.10578703687736, 102.89217698031362, 100.73765724142488, 100.73765724142488, 88.35891866710028, 77.37470831149336, 64.65775499018156, 64.0946428456798, 60.99038490637936, 60.99038490637936, 49.668417597382856, 48.475856275161924, 43.45751062608721, 41.407713274480166, 36.654501692670365, 36.26075095541942, 52.02794125695088, 7217.3883435111575, 942.3358127341668, 212.6089477889543, 211.63490693502303, 161.0109591677836, 145.34929465848936, 129.3387017408788, 119.62437918042211, 116.5251677769049, 84.36184805639498, 81.74157771050794, 79.54213543238528, 75.21742717913853, 68.6229903297184, 58.84754882784832, 57.62969523726051, 53.69166227303102, 52.22521474391812, 52.207151529261814, 52.168716027244145, 51.78888511770339, 49.346516926232944, 48.410769363882075, 44.57856939230995, 44.08942128622464, 43.86757915173716, 43.52837663632219, 42.08837550550803, 40.87183497183667, 40.65297617551656, 39.46771534344521, 7217.3883435111575, 150.97214158989354, 149.01011587879378, 147.87330711557627, 132.54464415066354, 132.0804072663107, 128.51683623133337, 118.74837506634775, 118.7325476620855, 117.74011044960723, 89.58386427447284, 86.63644260045484, 78.01929067683926, 77.51060403571967, 74.7624341264462, 70.65922263147631, 64.75751911255765, 59.590000334577425, 59.50879424082306, 58.24570670881578, 57.06924622665071, 53.60936586065642, 52.693454882107396, 51.23810825578605, 50.73895697005189, 50.6053172568175, 50.033832968741144, 47.20109949055685, 46.88919338794889, 46.8376940572367, 45.40620631005015, 7217.3883435111575, 396.7383451300722, 227.01316085512127, 213.0475069037939, 207.19564042305802, 206.1734147801666, 106.88622330062067, 106.56183963661837, 97.11274408854929, 94.16799574210704, 79.70602696800314, 79.32765786434298, 76.11443432180477, 73.69743076150284, 71.22994464933458, 67.96249230369953, 65.86721348562641, 60.095583901958406, 56.65470383126955, 56.64414355928101, 56.64414355928101, 55.79315436188543, 54.30290848569335, 43.33373974334411, 43.26957215263305, 40.897886476207695, 39.334172606140626, 39.1779634532565, 38.67498386263529, 37.591393106532365, 37.55910576370543, 269.7481332391571, 7217.3883435111575, 157.86230031452575, 135.8722590800403, 128.78633579143528, 125.16286108270458, 125.16286108270458, 125.16286108270458, 120.26117552060235, 88.26451519477084, 61.54945879802043, 59.55253271463766, 59.538265103462145, 59.538265103462145, 59.538265103462145, 54.67352295913017, 51.791777334396215, 51.7433621265151, 47.753866051339564, 46.96354464574359, 45.78738112012457, 41.59919842879291, 39.865142494524704, 39.07034955019793, 37.35486668811517, 36.39452942887417, 34.9700502621787, 43.04077629929309, 33.64142161220939, 33.64142161220939, 32.4174423676009, 31.322471578482467, 7217.3883435111575], \"Category\": [\"Default\", \"Default\", \"Default\", \"Default\", \"Default\", \"Default\", \"Default\", \"Default\", \"Default\", \"Default\", \"Default\", \"Default\", \"Default\", \"Default\", \"Default\", \"Default\", \"Default\", \"Default\", \"Default\", \"Default\", \"Default\", \"Default\", \"Default\", \"Default\", \"Default\", \"Default\", \"Default\", \"Default\", \"Default\", \"Default\", \"Topic1\", \"Topic1\", \"Topic1\", \"Topic1\", \"Topic1\", \"Topic1\", \"Topic1\", \"Topic1\", \"Topic1\", \"Topic1\", \"Topic1\", \"Topic1\", \"Topic1\", \"Topic1\", \"Topic1\", \"Topic1\", \"Topic1\", \"Topic1\", \"Topic1\", \"Topic1\", \"Topic1\", \"Topic1\", \"Topic1\", \"Topic1\", \"Topic1\", \"Topic1\", \"Topic1\", \"Topic1\", \"Topic1\", \"Topic1\", \"Topic1\", \"Topic1\", \"Topic2\", \"Topic2\", \"Topic2\", \"Topic2\", \"Topic2\", \"Topic2\", \"Topic2\", \"Topic2\", \"Topic2\", \"Topic2\", \"Topic2\", \"Topic2\", \"Topic2\", \"Topic2\", \"Topic2\", \"Topic2\", \"Topic2\", \"Topic2\", \"Topic2\", \"Topic2\", \"Topic2\", \"Topic2\", \"Topic2\", \"Topic2\", \"Topic2\", \"Topic2\", \"Topic2\", \"Topic2\", \"Topic2\", \"Topic2\", \"Topic2\", \"Topic2\", \"Topic2\", \"Topic3\", \"Topic3\", \"Topic3\", \"Topic3\", \"Topic3\", \"Topic3\", \"Topic3\", \"Topic3\", \"Topic3\", \"Topic3\", \"Topic3\", \"Topic3\", \"Topic3\", \"Topic3\", \"Topic3\", \"Topic3\", \"Topic3\", \"Topic3\", \"Topic3\", \"Topic3\", \"Topic3\", \"Topic3\", \"Topic3\", \"Topic3\", \"Topic3\", \"Topic3\", \"Topic3\", \"Topic3\", \"Topic3\", \"Topic3\", \"Topic3\", \"Topic3\", \"Topic4\", \"Topic4\", \"Topic4\", \"Topic4\", \"Topic4\", \"Topic4\", \"Topic4\", \"Topic4\", \"Topic4\", \"Topic4\", \"Topic4\", \"Topic4\", \"Topic4\", \"Topic4\", \"Topic4\", \"Topic4\", \"Topic4\", \"Topic4\", \"Topic4\", \"Topic4\", \"Topic4\", \"Topic4\", \"Topic4\", \"Topic4\", \"Topic4\", \"Topic4\", \"Topic4\", \"Topic4\", \"Topic4\", \"Topic4\", \"Topic4\", \"Topic5\", \"Topic5\", \"Topic5\", \"Topic5\", \"Topic5\", \"Topic5\", \"Topic5\", \"Topic5\", \"Topic5\", \"Topic5\", \"Topic5\", \"Topic5\", \"Topic5\", \"Topic5\", \"Topic5\", \"Topic5\", \"Topic5\", \"Topic5\", \"Topic5\", \"Topic5\", \"Topic5\", \"Topic5\", \"Topic5\", \"Topic5\", \"Topic5\", \"Topic5\", \"Topic5\", \"Topic5\", \"Topic5\", \"Topic5\", \"Topic5\", \"Topic5\", \"Topic5\", \"Topic5\", \"Topic5\", \"Topic5\", \"Topic5\", \"Topic5\", \"Topic5\", \"Topic6\", \"Topic6\", \"Topic6\", \"Topic6\", \"Topic6\", \"Topic6\", \"Topic6\", \"Topic6\", \"Topic6\", \"Topic6\", \"Topic6\", \"Topic6\", \"Topic6\", \"Topic6\", \"Topic6\", \"Topic6\", \"Topic6\", \"Topic6\", \"Topic6\", \"Topic6\", \"Topic6\", \"Topic6\", \"Topic6\", \"Topic6\", \"Topic6\", \"Topic6\", \"Topic6\", \"Topic6\", \"Topic6\", \"Topic6\", \"Topic6\", \"Topic6\", \"Topic7\", \"Topic7\", \"Topic7\", \"Topic7\", \"Topic7\", \"Topic7\", \"Topic7\", \"Topic7\", \"Topic7\", \"Topic7\", \"Topic7\", \"Topic7\", \"Topic7\", \"Topic7\", \"Topic7\", \"Topic7\", \"Topic7\", \"Topic7\", \"Topic7\", \"Topic7\", \"Topic7\", \"Topic7\", \"Topic7\", \"Topic7\", \"Topic7\", \"Topic7\", \"Topic7\", \"Topic7\", \"Topic7\", \"Topic7\", \"Topic7\", \"Topic8\", \"Topic8\", \"Topic8\", \"Topic8\", \"Topic8\", \"Topic8\", \"Topic8\", \"Topic8\", \"Topic8\", \"Topic8\", \"Topic8\", \"Topic8\", \"Topic8\", \"Topic8\", \"Topic8\", \"Topic8\", \"Topic8\", \"Topic8\", \"Topic8\", \"Topic8\", \"Topic8\", \"Topic8\", \"Topic8\", \"Topic8\", \"Topic8\", \"Topic8\", \"Topic8\", \"Topic8\", \"Topic8\", \"Topic8\", \"Topic8\", \"Topic9\", \"Topic9\", \"Topic9\", \"Topic9\", \"Topic9\", \"Topic9\", \"Topic9\", \"Topic9\", \"Topic9\", \"Topic9\", \"Topic9\", \"Topic9\", \"Topic9\", \"Topic9\", \"Topic9\", \"Topic9\", \"Topic9\", \"Topic9\", \"Topic9\", \"Topic9\", \"Topic9\", \"Topic9\", \"Topic9\", \"Topic9\", \"Topic9\", \"Topic9\", \"Topic9\", \"Topic9\", \"Topic9\", \"Topic9\", \"Topic9\", \"Topic9\", \"Topic10\", \"Topic10\", \"Topic10\", \"Topic10\", \"Topic10\", \"Topic10\", \"Topic10\", \"Topic10\", \"Topic10\", \"Topic10\", \"Topic10\", \"Topic10\", \"Topic10\", \"Topic10\", \"Topic10\", \"Topic10\", \"Topic10\", \"Topic10\", \"Topic10\", \"Topic10\", \"Topic10\", \"Topic10\", \"Topic10\", \"Topic10\", \"Topic10\", \"Topic10\", \"Topic10\", \"Topic10\", \"Topic10\", \"Topic10\", \"Topic10\"], \"logprob\": [30.0, 29.0, 28.0, 27.0, 26.0, 25.0, 24.0, 23.0, 22.0, 21.0, 20.0, 19.0, 18.0, 17.0, 16.0, 15.0, 14.0, 13.0, 12.0, 11.0, 10.0, 9.0, 8.0, 7.0, 6.0, 5.0, 4.0, 3.0, 2.0, 1.0, -2.6945, -2.8853, -2.9524, -3.3346, -3.4835, -3.5755, -3.5755, -3.6093, -3.7627, -4.0439, -4.1516, -4.2076, -4.2406, -4.2469, -4.2534, -4.4612, -4.4964, -4.5423, -4.5429, -4.595, -4.609, -4.6925, -4.6935, -4.7651, -4.7651, -4.95, -5.0312, -5.0802, -5.1275, -5.1368, -2.1771, -4.6222, -2.0702, -3.1154, -3.3498, -3.4853, -3.5801, -3.5898, -3.753, -3.7908, -3.8414, -3.8987, -4.0552, -4.1143, -4.2256, -4.3481, -4.4376, -4.4488, -4.5387, -4.5427, -4.6672, -4.9391, -4.985, -5.0659, -5.1094, -5.133, -5.1435, -5.2001, -5.2042, -5.2509, -5.2673, -5.39, -2.6348, -2.1319, -4.6006, -2.2648, -2.7935, -2.8298, -2.9242, -2.9448, -2.9448, -2.9449, -2.9451, -2.9452, -2.9553, -2.9719, -3.248, -4.5703, -4.8387, -4.8633, -4.8746, -5.4324, -5.5444, -5.5828, -5.6476, -5.7617, -5.8436, -6.0148, -6.0319, -6.0431, -6.1097, -6.1142, -6.1144, -6.1144, -6.1144, -2.6847, -2.5444, -1.1759, -2.4387, -2.4476, -3.1677, -3.4881, -3.7033, -3.8372, -3.9875, -4.0473, -4.048, -4.0807, -4.1019, -4.2795, -4.5007, -5.034, -5.2174, -5.269, -5.4334, -5.5174, -5.5256, -5.5288, -5.5295, -5.5745, -5.582, -5.6153, -5.6153, -5.6153, -5.6153, -5.6306, -5.6343, -2.038, -2.2584, -2.4932, -3.1208, -3.1866, -3.4903, -3.704, -4.2489, -4.3088, -3.9248, -3.9248, -4.6947, -4.711, -4.711, -4.711, -4.7995, -5.3598, -5.2558, -5.2558, -5.4907, -5.1762, -5.1762, -5.7715, -4.9005, -5.9887, -6.0083, -6.0104, -6.0207, -6.0338, -5.8702, -6.1357, -5.2007, -5.2007, -5.4067, -5.6105, -4.4846, -4.6034, -5.2435, -5.5863, -2.4125, -2.0056, -3.1546, -3.1585, -3.2689, -3.2787, -3.5572, -3.5772, -3.8225, -3.9414, -3.9527, -4.0459, -4.0578, -4.0666, -4.1144, -4.1238, -4.1356, -4.157, -4.157, -4.2893, -4.4235, -4.6053, -4.6142, -4.6646, -4.6646, -4.8733, -4.898, -5.0095, -5.0591, -5.1836, -5.1947, -4.8433, -2.2571, -1.8636, -3.3559, -3.3605, -3.6353, -3.7382, -3.8557, -3.9344, -3.9608, -4.2869, -4.3188, -4.3464, -4.4029, -4.4959, -4.6518, -4.6731, -4.745, -4.7732, -4.7736, -4.7743, -4.7818, -4.831, -4.8505, -4.9346, -4.9459, -4.951, -4.959, -4.9934, -5.0233, -5.0288, -5.0591, -2.3072, -3.6155, -3.6287, -3.6364, -3.7465, -3.7501, -3.7776, -3.8572, -3.8574, -3.8658, -4.1416, -4.1754, -4.2813, -4.288, -4.3245, -4.3817, -4.4701, -4.5545, -4.5559, -4.5776, -4.5984, -4.662, -4.6795, -4.708, -4.718, -4.7207, -4.7322, -4.7916, -4.7984, -4.7996, -4.8312, -1.9929, -2.6304, -3.1904, -3.2541, -3.2821, -3.287, -3.9481, -3.9512, -4.0449, -4.076, -4.2445, -4.2493, -4.2911, -4.3238, -4.3583, -4.4059, -4.4376, -4.5307, -4.5906, -4.5907, -4.5907, -4.6061, -4.6337, -4.8636, -4.8651, -4.9228, -4.9626, -4.9667, -4.9799, -5.0091, -5.0099, -3.107, -2.1968, -3.3842, -3.5351, -3.5891, -3.6178, -3.6178, -3.6178, -3.6581, -3.9702, -4.3352, -4.3687, -4.3692, -4.3692, -4.3692, -4.4556, -4.5107, -4.5116, -4.5933, -4.6104, -4.6362, -4.7342, -4.7778, -4.7984, -4.8444, -4.8711, -4.9121, -4.7052, -4.9519, -4.9519, -4.99, -5.0253, -2.1116], \"loglift\": [30.0, 29.0, 28.0, 27.0, 26.0, 25.0, 24.0, 23.0, 22.0, 21.0, 20.0, 19.0, 18.0, 17.0, 16.0, 15.0, 14.0, 13.0, 12.0, 11.0, 10.0, 9.0, 8.0, 7.0, 6.0, 5.0, 4.0, 3.0, 2.0, 1.0, 2.064, 2.0636, 2.0635, 2.0626, 2.0621, 2.0617, 2.0617, 2.0615, 2.061, 2.0595, 2.0588, 2.0584, 2.0582, 2.0582, 2.0581, 2.0564, 2.0561, 2.0556, 2.0556, 2.0551, 2.055, 2.0541, 2.054, 2.0518, 2.0518, 2.0507, 2.0495, 2.0487, 2.0479, 2.0477, 0.0356, -0.0884, 2.0885, 2.087, 2.0863, 2.0859, 2.0855, 2.0855, 2.0848, 2.0846, 2.0844, 2.0841, 2.0832, 2.0828, 2.0821, 2.0811, 2.0803, 2.0802, 2.0794, 2.0793, 2.078, 2.0745, 2.0738, 2.0725, 2.0717, 2.0713, 2.0711, 2.0701, 2.07, 2.0691, 2.0688, 2.0661, 2.0361, 0.0807, -0.0667, 2.1131, 2.1123, 2.1122, 2.112, 2.112, 2.112, 2.112, 2.112, 2.112, 2.1119, 2.1119, 2.1112, 2.1028, 2.0994, 2.099, 2.0988, 2.0875, 2.0844, 2.0833, 2.0812, 2.0773, 2.0742, 2.0669, 2.0661, 2.0655, 2.0624, 2.0621, 2.0621, 2.0621, 2.0621, 1.8492, -0.3317, 2.265, 2.2639, 2.2638, 2.2622, 2.261, 2.2599, 2.2591, 2.2581, 2.2577, 2.2576, 2.2574, 2.2572, 2.2556, 2.2532, 2.2447, 2.2406, 2.2393, 2.2347, 2.2321, 2.2318, 2.2317, 2.2317, 2.2301, 2.2299, 2.2287, 2.2287, 2.2287, 2.2287, 2.2281, 2.228, 0.1747, 2.3189, 2.3186, 2.3172, 2.3171, 2.316, 2.315, 2.3113, 2.3108, 2.3066, 2.3066, 2.3064, 2.3062, 2.3062, 2.3062, 2.3049, 2.2937, 2.293, 2.293, 2.289, 2.2837, 2.2837, 2.2794, 2.2783, 2.271, 2.2703, 2.2702, 2.2696, 2.269, 2.2668, 2.2637, 2.263, 2.263, 2.2577, 2.2501, 2.1773, 2.1069, 2.183, 2.1827, -0.1998, 2.3352, 2.333, 2.333, 2.3326, 2.3326, 2.3314, 2.3313, 2.3299, 2.3291, 2.329, 2.3283, 2.3282, 2.3282, 2.3278, 2.3277, 2.3276, 2.3274, 2.3274, 2.3262, 2.3247, 2.3225, 2.3223, 2.3216, 2.3216, 2.3182, 2.3178, 2.3157, 2.3144, 2.3118, 2.3115, 2.3019, -0.0444, 2.3849, 2.3816, 2.3815, 2.3802, 2.3795, 2.3788, 2.3782, 2.378, 2.3749, 2.3746, 2.3743, 2.3736, 2.3724, 2.3701, 2.3698, 2.3686, 2.3681, 2.3681, 2.3681, 2.368, 2.3671, 2.3667, 2.365, 2.3648, 2.3647, 2.3645, 2.3638, 2.3631, 2.363, 2.3623, -0.0945, 2.4643, 2.4642, 2.4642, 2.4635, 2.4634, 2.4632, 2.4627, 2.4627, 2.4626, 2.4601, 2.4598, 2.4586, 2.4585, 2.4581, 2.4574, 2.4562, 2.455, 2.4549, 2.4546, 2.4543, 2.4532, 2.4529, 2.4524, 2.4522, 2.4522, 2.452, 2.4509, 2.4507, 2.4506, 2.4501, 0.2198, 2.4833, 2.4815, 2.4813, 2.4812, 2.4811, 2.477, 2.477, 2.4762, 2.4759, 2.4741, 2.474, 2.4735, 2.4731, 2.4727, 2.4721, 2.4717, 2.4703, 2.4694, 2.4694, 2.4694, 2.4691, 2.4687, 2.4644, 2.4643, 2.4631, 2.4622, 2.4621, 2.4618, 2.4611, 2.4611, 2.3924, 0.0158, 2.651, 2.6501, 2.6497, 2.6495, 2.6495, 2.6495, 2.6492, 2.6464, 2.6419, 2.6413, 2.641, 2.641, 2.641, 2.64, 2.639, 2.639, 2.6375, 2.6372, 2.6367, 2.6346, 2.6336, 2.6332, 2.6321, 2.6314, 2.6304, 2.6295, 2.6293, 2.6293, 2.6282, 2.6272, 0.1011]}, \"token.table\": {\"Topic\": [4, 4, 10, 8, 10, 7, 6, 10, 3, 9, 10, 9, 9, 8, 5, 3, 6, 5, 4, 5, 8, 9, 7, 4, 9, 5, 6, 10, 3, 2, 5, 10, 5, 4, 1, 2, 7, 10, 2, 5, 2, 1, 5, 3, 6, 2, 6, 2, 7, 8, 1, 8, 8, 3, 7, 7, 3, 3, 6, 9, 1, 8, 10, 2, 1, 2, 3, 4, 5, 6, 7, 8, 9, 10, 3, 8, 10, 8, 3, 4, 3, 2, 1, 7, 4, 3, 2, 6, 10, 5, 5, 10, 10, 9, 1, 2, 6, 9, 7, 6, 8, 10, 3, 7, 3, 6, 3, 6, 2, 7, 8, 8, 4, 2, 5, 6, 2, 5, 4, 9, 2, 7, 9, 4, 9, 6, 7, 5, 8, 6, 2, 5, 7, 8, 7, 2, 3, 1, 8, 4, 10, 5, 2, 2, 2, 10, 5, 7, 4, 10, 2, 4, 9, 6, 1, 2, 9, 5, 3, 7, 9, 9, 5, 6, 10, 10, 4, 7, 9, 5, 6, 8, 4, 4, 3, 8, 5, 2, 9, 8, 5, 1, 3, 4, 7, 3, 6, 4, 7, 6, 3, 10, 9, 3, 6, 5, 3, 10, 8, 5, 1, 7, 8, 3, 2, 1, 1, 2, 3, 1, 6, 9, 2, 1, 4, 8, 1, 5, 6, 8, 8, 2, 2, 5, 10, 2, 4, 8, 8, 3, 9, 1, 7, 1, 2, 9, 7, 1, 7, 9, 4, 10, 6, 1, 10, 3, 4, 4, 8, 6, 10, 3, 7, 2, 5, 5, 1, 4, 1, 8, 3, 10, 9, 6, 1, 5, 6, 7, 8, 7, 8, 1, 10, 1, 8, 2, 8, 2, 3, 1, 6, 8, 7, 4, 1, 2, 6, 5, 2, 1, 6, 9, 5, 4, 6, 2, 5, 7, 10, 2, 5, 4, 3, 3, 5, 2, 5, 9, 9, 1, 5, 10, 7, 6, 2, 8, 5, 6, 9, 1, 4, 6, 10, 1, 9, 5, 10, 1, 6, 7, 9, 4, 9, 9, 1, 2, 9, 4, 2, 5], \"Freq\": [0.9896031507149351, 0.9976075472307708, 0.9842135074356264, 0.9932211590277843, 0.9909593418194705, 0.9937211779060945, 0.9865424019987689, 0.9855959140698688, 0.9987824233030065, 0.9660810812140398, 0.9577788242167019, 0.9827327585976712, 0.9857840200835236, 0.9906703950747592, 0.9980922129051998, 0.9660668333485526, 0.9822331050870124, 0.997715648286634, 0.9993984344664909, 0.9572067215542364, 0.9886332201309692, 0.969221679198621, 0.9947805022295632, 0.967241685171012, 0.9955369950741849, 0.997614244706323, 0.9846204696979133, 0.9907219275243041, 0.9844487511653526, 0.9840493614079985, 0.9509298041396547, 0.9907092161952403, 0.9328256318865986, 0.9948197646877168, 0.9968923651496886, 0.9957684943670277, 0.9708583568817518, 0.9895130284969957, 0.01987914012313431, 0.9541987259104467, 0.9843662880550121, 0.9860023483896715, 0.9742665120018683, 0.9980014346435653, 0.9966795087639744, 0.9934853193388052, 0.9901836437408998, 0.9801269899541349, 0.9741407100550697, 0.9869354018987275, 0.9833290925311289, 0.9880384653307167, 0.9959784550686958, 0.9977005902032452, 0.9971358317921841, 0.9909215508283, 0.9570315200521706, 0.9785536883180062, 0.9897146745026576, 0.9981389620158088, 0.9894879966642786, 0.9940942207041215, 0.9856336717220356, 0.9957164677284859, 0.13134945147468832, 0.13412053694883788, 0.08659642106717322, 0.12359041214706962, 0.08050003302404422, 0.09255425483659474, 0.0836867813193162, 0.10530124801768263, 0.08465666123526853, 0.0775903932761872, 0.9470282464615589, 0.9937140329936756, 0.9907092161952403, 0.9914500999841461, 0.9981353999193215, 0.9602019657352674, 0.9647961797085186, 0.9972983992019147, 0.9983913789517034, 0.9878613291569139, 0.9945040890963206, 0.9977820764402159, 0.9945298348018708, 0.99717362794326, 0.9945376425352493, 0.9780751670528868, 0.9784490924945511, 0.972260541380238, 0.9910728898555627, 0.9917087228526342, 0.9946712472477097, 0.9873258649998374, 0.9898271291621331, 0.9947275719100357, 0.9765397854288229, 0.9610220737558023, 0.019220441475116045, 0.9726045565877843, 0.9985559570575102, 0.9727130300149487, 0.9984232247199953, 0.9939533056154862, 0.9616984098477107, 0.9985053937607897, 0.9932133403355299, 0.9985824451155146, 0.9926538696494043, 0.9883022215344449, 0.9962645400598603, 0.9771078424476839, 0.9432196101702405, 0.9892813571433505, 0.02643105537846202, 0.9515179936246327, 0.9665185708859926, 0.9884439633958831, 0.9957157931254866, 0.9786690523575117, 0.9832636195233019, 0.9878047414088961, 0.9875966804549418, 0.9976894383733114, 0.9954930957240897, 0.9787956668354743, 0.9934824839361254, 0.9934256611203706, 0.9871034615422594, 0.9809466783598328, 0.9752906421893766, 0.9868398288998342, 0.996999989537558, 0.9921770909302755, 0.9977621266533779, 0.9977158968190125, 0.9918200792330063, 0.957280734261154, 0.987122908622239, 0.9374656971615142, 0.9910767371758651, 0.9861366320565376, 0.9898838916624711, 0.9637298481232102, 0.9809466783598328, 0.989649642969505, 0.99617827841605, 0.9809335758873935, 0.9927174313149287, 0.9885686094705544, 0.9706590084100059, 0.9888849377837031, 0.9956123861979669, 0.9936701755003126, 0.9868339126595108, 0.9819713095171563, 0.987465371510866, 0.9881494193576906, 0.9780456509230608, 0.9950832238357668, 0.9959094381482757, 0.9926774429580287, 0.9809335758873935, 0.9909593418194705, 0.966427139979778, 0.9838570623122836, 0.9842678587394624, 0.865427426621966, 0.03556551068309449, 0.08298619159388715, 0.9665185708859926, 0.9727310318985437, 0.9956131763826931, 0.9934124621776349, 0.9990303882708397, 0.08526472351750564, 0.9119618254481038, 0.981264055557976, 0.9586757647692365, 0.998359433559506, 0.9703931731801385, 0.9723703088353897, 0.9907168819658903, 0.9703931731801385, 0.9926774429580287, 0.9959523428288856, 0.9909277783561473, 0.9821440297249698, 0.9925854145769721, 0.9828035344922031, 0.9699330095434404, 0.9707636362102633, 0.9913290105574856, 0.9369174574925546, 0.9703931731801385, 0.9909593418194705, 0.9935607882377777, 0.9787149206398249, 0.9815140879348242, 0.9839378014367909, 0.9821149594552409, 0.9971596780294056, 0.9991647748660948, 0.9911696733547848, 0.11574869327141696, 0.11574869327141696, 0.7678937699957418, 0.9903201556648602, 0.9957908377117614, 0.9825472748732701, 0.9705700797088174, 0.9897235579798538, 0.9450420188636287, 0.9745535696515472, 0.9956124750432565, 0.8087501217452414, 0.06221154782655703, 0.12442309565311406, 0.9854361024707692, 0.9952448379605429, 0.007708079996180611, 0.9866342395111182, 0.9876810031130856, 0.9918877333902284, 0.9966495300776543, 0.9900990043419235, 0.9786129007749298, 0.9978451815589633, 0.9760066537497413, 0.9828162349687507, 0.9871178830427375, 0.9828162349687507, 0.9773468534890097, 0.9817693109739016, 0.9931842987438259, 0.9944954376453906, 0.9855975508796853, 0.9905365661421788, 0.9608700711002297, 0.9907092161952403, 0.9894722311633614, 0.9795752982985213, 0.9794831362706581, 0.9981610453611685, 0.9496996200000658, 0.9955658947039907, 0.9758361833031524, 0.9837616222967012, 0.9616829932751432, 0.9573462320214772, 0.989073424131985, 0.9889775133623699, 0.9886338083837126, 0.9784490924945511, 0.9954431683483679, 0.9928732806563041, 0.994420247314867, 0.9793373222198061, 0.9702629391929716, 0.993894260702403, 0.9886282408241042, 0.9964607819505934, 0.984155333203263, 0.9742665120018683, 0.9901536877494889, 0.9838145596732645, 0.9958908626285612, 0.9775973779643378, 0.9898019087345834, 0.993509536793772, 0.9856735723072804, 0.9937580928617104, 0.9810362831240892, 0.9981049760937616, 0.9938302708355056, 0.9788239022527603, 0.9317115219299971, 0.9904968025211188, 0.9829214611849018, 0.9936978079411225, 0.9847672890445421, 0.9665185708859926, 0.050184775314997834, 0.948654139825443, 0.989759885842515, 0.9665936315243964, 0.9971187435300468, 0.9894848136716023, 0.9893782366153607, 0.9886282408241042, 0.9552566848416904, 0.9980086318391794, 0.9837616222967012, 0.02643105537846202, 0.9515179936246327, 0.9870213557725843, 0.9758188306814952, 0.10186018397908074, 0.8658115638221863, 0.9665185708859926, 0.9663887600075599, 0.9830764265075118, 0.9971617438411132, 0.007708079996180611, 0.9866342395111182, 0.9858378898260748, 0.9911421131517876, 0.9989460313003851, 0.9809466783598328, 0.98471229652375, 0.9768776595944866, 0.994985339327129, 0.990575181966306, 0.9690305263459347, 0.8608437238054871, 0.0358684884918953, 0.0358684884918953, 0.9882080733553326, 0.9920935387630514, 0.9652309750294625, 0.9782982716130131, 0.9963529811118688, 0.9853584365208176, 0.9973007544615063, 0.9935803004531892, 0.9973882976074935, 0.9957228770582682, 0.9802227711555219, 0.9943086028748286, 0.9733640611103175, 0.994229413222128, 0.9885417295228043, 0.9956123861979669, 0.9763350051807802, 0.9851139756302262, 0.9808752041318876, 0.03930745078741758, 0.9433788188980219], \"Term\": [\"abov\", \"ad\", \"adverse\", \"affect\", \"agricultural\", \"ahead\", \"ahmedabad\", \"aim\", \"amp\", \"app\", \"architecture\", \"atm\", \"away\", \"bad\", \"bank\", \"banking\", \"batch\", \"bcoz\", \"bd\", \"beat\", \"begin\", \"believe\", \"big\", \"birthday\", \"bjp\", \"black\", \"blackmoney\", \"board\", \"body\", \"bold\", \"brain\", \"bulletin\", \"bus\", \"byelection\", \"bypoll\", \"cash\", \"celebrate\", \"ch\", \"chinar\", \"chinar\", \"citizen\", \"claim\", \"clap\", \"clearly\", \"come\", \"continue\", \"coop\", \"corrupt\", \"country\", \"courage\", \"create\", \"creativity\", \"crisis\", \"critical\", \"crore\", \"currency\", \"currencyban\", \"curse\", \"daughter\", \"day\", \"debate\", \"decision\", \"delhitie\", \"demonetisation\", \"demonetization\", \"demonetization\", \"demonetization\", \"demonetization\", \"demonetization\", \"demonetization\", \"demonetization\", \"demonetization\", \"demonetization\", \"demonetization\", \"design\", \"detaiend\", \"dire\", \"directly\", \"disclosure\", \"dispense\", \"do\", \"download\", \"due\", \"economic\", \"ed\", \"edict\", \"effect\", \"end\", \"even\", \"exchange\", \"exclusion\", \"exercise\", \"explain\", \"fake\", \"farmer\", \"farmhouse\", \"feedback\", \"feel\", \"finance\", \"finish\", \"finish\", \"first\", \"fishy\", \"friend\", \"full\", \"fund\", \"funding\", \"get\", \"give\", \"go\", \"good\", \"government\", \"govt\", \"great\", \"group\", \"gujarat\", \"gxlawl\", \"gxlawl\", \"happiness\", \"head\", \"help\", \"high\", \"historic\", \"hitler\", \"honest\", \"hour\", \"htt\", \"iamwithmodi\", \"immense\", \"impact\", \"improve\", \"incident\", \"inconvenience\", \"increase\", \"indeed\", \"indore\", \"inform\", \"initiative\", \"innovative\", \"insight\", \"institutional\", \"involve\", \"issue\", \"itvideo\", \"keep\", \"kill\", \"kishtwar\", \"know\", \"lakh\", \"laudable\", \"leader\", \"less\", \"let\", \"life\", \"lifeinsurance\", \"liquidity\", \"long\", \"loot\", \"lose\", \"major\", \"make\", \"mamata\", \"many\", \"maoist\", \"map\", \"matterbjp\", \"mean\", \"medium\", \"meet\", \"milk\", \"milk\", \"milk\", \"minimalism\", \"minister\", \"modi\", \"momentous\", \"money\", \"move\", \"move\", \"much\", \"name\", \"need\", \"nefarious\", \"netascashin\", \"new\", \"nexus\", \"nomoneyyaar\", \"note\", \"old\", \"opinion\", \"opks\", \"oppn\", \"oppose\", \"opposition\", \"owner\", \"pak\", \"pakistan\", \"panvel\", \"parliament\", \"participate\", \"party\", \"pay\", \"payment\", \"paytm\", \"people\", \"plan\", \"pm\", \"pm\", \"pm\", \"poll\", \"poor\", \"positive\", \"post\", \"praise\", \"prime\", \"print\", \"problem\", \"producer\", \"producer\", \"producer\", \"productivity\", \"profit\", \"prominent\", \"prominent\", \"propaganda\", \"protest\", \"prove\", \"public\", \"que\", \"question\", \"queue\", \"quite\", \"raid\", \"rapidly\", \"rbi\", \"re\", \"reaction\", \"read\", \"real\", \"reason\", \"recalibrate\", \"reconfigure\", \"reddy\", \"relate\", \"report\", \"require\", \"result\", \"retain\", \"rich\", \"rmg\", \"road\", \"rule\", \"run\", \"rupee\", \"s\", \"saver\", \"say\", \"seat\", \"secure\", \"see\", \"separatist\", \"severe\", \"shave\", \"shortage\", \"shut\", \"slow\", \"sme\", \"social\", \"solution\", \"squeeze\", \"stage\", \"stall\", \"stand\", \"start\", \"startup\", \"state\", \"station\", \"step\", \"stop\", \"story\", \"strategy\", \"street\", \"struggle\", \"stuff\", \"support\", \"support\", \"survey\", \"swkhuo\", \"take\", \"tco\", \"tcodgai\", \"tcoiexuia\", \"tcoo\", \"tcoobqrhlnsl\", \"tcopygk\", \"tcoqe\", \"tcoqe\", \"tcorlrtki\", \"tcoucs\", \"tcownlckgtyij\", \"tcownlckgtyij\", \"teach\", \"terror\", \"terrorism\", \"terrorist\", \"thane\", \"thane\", \"thank\", \"thing\", \"think\", \"third\", \"thug\", \"tight\", \"time\", \"tomorrow\", \"try\", \"update\", \"update\", \"update\", \"use\", \"useless\", \"uturned\", \"video\", \"view\", \"vindicate\", \"vote\", \"want\", \"watch\", \"wedding\", \"week\", \"whooping\", \"win\", \"windfall\", \"wipe\", \"wise\", \"withdraw\", \"world\", \"xhizedw\", \"youtube\", \"youtube\"]}, \"R\": 30, \"lambda.step\": 0.01, \"plot.opts\": {\"xlab\": \"PC1\", \"ylab\": \"PC2\"}, \"topic.order\": [2, 6, 10, 1, 5, 3, 8, 4, 9, 7]};\n",
              "\n",
              "function LDAvis_load_lib(url, callback){\n",
              "  var s = document.createElement('script');\n",
              "  s.src = url;\n",
              "  s.async = true;\n",
              "  s.onreadystatechange = s.onload = callback;\n",
              "  s.onerror = function(){console.warn(\"failed to load library \" + url);};\n",
              "  document.getElementsByTagName(\"head\")[0].appendChild(s);\n",
              "}\n",
              "\n",
              "if(typeof(LDAvis) !== \"undefined\"){\n",
              "   // already loaded: just create the visualization\n",
              "   !function(LDAvis){\n",
              "       new LDAvis(\"#\" + \"ldavis_el2911402315187593922571123469\", ldavis_el2911402315187593922571123469_data);\n",
              "   }(LDAvis);\n",
              "}else if(typeof define === \"function\" && define.amd){\n",
              "   // require.js is available: use it to load d3/LDAvis\n",
              "   require.config({paths: {d3: \"https://d3js.org/d3.v5\"}});\n",
              "   require([\"d3\"], function(d3){\n",
              "      window.d3 = d3;\n",
              "      LDAvis_load_lib(\"https://cdn.jsdelivr.net/gh/bmabey/pyLDAvis@3.4.0/pyLDAvis/js/ldavis.v3.0.0.js\", function(){\n",
              "        new LDAvis(\"#\" + \"ldavis_el2911402315187593922571123469\", ldavis_el2911402315187593922571123469_data);\n",
              "      });\n",
              "    });\n",
              "}else{\n",
              "    // require.js not available: dynamically load d3 & LDAvis\n",
              "    LDAvis_load_lib(\"https://d3js.org/d3.v5.js\", function(){\n",
              "         LDAvis_load_lib(\"https://cdn.jsdelivr.net/gh/bmabey/pyLDAvis@3.4.0/pyLDAvis/js/ldavis.v3.0.0.js\", function(){\n",
              "                 new LDAvis(\"#\" + \"ldavis_el2911402315187593922571123469\", ldavis_el2911402315187593922571123469_data);\n",
              "            })\n",
              "         });\n",
              "}\n",
              "</script>"
            ]
          },
          "metadata": {},
          "execution_count": 23
        }
      ]
    },
    {
      "cell_type": "markdown",
      "source": [
        "### Heaps law"
      ],
      "metadata": {
        "id": "iXMW2wI8zeAB"
      }
    },
    {
      "cell_type": "code",
      "source": [
        "i = 0\n",
        "tokens = text.split(\" \")\n",
        "words = set()\n",
        "x,y = [],[]\n",
        "for word in tokens:\n",
        "    words.add(word)\n",
        "    i += 1\n",
        "    x.append(i)\n",
        "    y.append(len(words))\n",
        "\n",
        "plt.plot(x,y)"
      ],
      "metadata": {
        "id": "tMUo80TSTtqq"
      },
      "execution_count": null,
      "outputs": []
    },
    {
      "cell_type": "markdown",
      "source": [
        "Zipf law"
      ],
      "metadata": {
        "id": "B05AjqT-zhHw"
      }
    },
    {
      "cell_type": "code",
      "source": [
        "text = \"\"\"This is a sample text demonstrating Zipf's law. Zipf's law is an empirical law that states that in a large text corpus, the frequency of a word is inversely proportional to its rank. This means that a few words occur very frequently, while most words occur rarely. Zipf's law has been observed in various natural language texts and is a fundamental principle in linguistics and information retrieval.\"\"\"\n",
        "\n",
        "words = text.lower().split()\n",
        "\n",
        "word_freq = {}\n",
        "for word in words:\n",
        "    word = ''.join(e for e in word if e.isalnum())\n",
        "    if word:\n",
        "        word_freq[word] = word_freq.get(word, 0) + 1\n",
        "\n",
        "sorted_words = sorted(word_freq.items(), key=lambda x: x[1], reverse=True)\n",
        "\n",
        "word_ranks = {word[0]: rank + 1 for rank, word in enumerate(sorted_words)}\n",
        "\n",
        "product_freq_rank = [rank * freq for word, freq, rank in zip(sorted_words, word_ranks.values(), sorted_words)]\n",
        "\n",
        "print(\"Top 10 most common words:\")\n",
        "for word, freq in sorted_words[:10]:\n",
        "    print(f\"{word}: {freq}\")\n",
        "import matplotlib.pyplot as plt\n",
        "\n",
        "frequencies = [freq for word, freq in sorted_words]\n",
        "ranks = list(range(1, len(sorted_words) + 1))\n",
        "\n",
        "plt.figure(figsize=(10, 6))\n",
        "plt.loglog(ranks, frequencies, marker='o', linestyle='-', color='b')\n",
        "plt.xlabel(\"Rank (log scale)\")\n",
        "plt.ylabel(\"Frequency (log scale)\")\n",
        "plt.title(\"Zipf's Law\")\n",
        "plt.grid(True)\n",
        "plt.show()\n",
        "\n"
      ],
      "metadata": {
        "id": "fpJmeeaCziNW"
      },
      "execution_count": null,
      "outputs": []
    }
  ]
}